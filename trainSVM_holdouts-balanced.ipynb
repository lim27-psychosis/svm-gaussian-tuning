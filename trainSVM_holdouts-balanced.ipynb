{
 "cells": [
  {
   "cell_type": "code",
   "execution_count": 18,
   "id": "997699bd-b885-47d1-8eef-ad5bebde6cdf",
   "metadata": {},
   "outputs": [],
   "source": [
    "from pickle import load\n",
    "import numpy as np\n",
    "from sklearn.svm import SVC\n",
    "import json\n",
    "from sklearn.metrics import matthews_corrcoef\n",
    "from sklearn.utils.class_weight import compute_class_weight\n",
    "from sklearn.metrics import matthews_corrcoef, f1_score, accuracy_score\n",
    "from sklearn.metrics import classification_report\n",
    "from sklearn.preprocessing import StandardScaler\n",
    "from sklearn.pipeline import make_pipeline\n",
    "from tqdm.notebook import tqdm\n",
    "import pandas as pd\n",
    "import matplotlib.pyplot as plt\n",
    "import matplotlib.patches as mpatches"
   ]
  },
  {
   "cell_type": "code",
   "execution_count": 19,
   "id": "0c92e1dc-b0c2-4432-9c80-366b3b0d01d8",
   "metadata": {},
   "outputs": [],
   "source": [
    "mccs = {}\n",
    "reports = {}\n",
    "f1_scores = {}\n",
    "accs = {}\n",
    "y_preds = {}"
   ]
  },
  {
   "cell_type": "markdown",
   "id": "3eea8531-8005-4080-954c-7a3f977e24e7",
   "metadata": {},
   "source": [
    "### Treinamento com GAMMA='AUTO'"
   ]
  },
  {
   "cell_type": "code",
   "execution_count": 20,
   "id": "3506b9fb-df35-4489-9adb-fc3488674584",
   "metadata": {},
   "outputs": [
    {
     "data": {
      "application/vnd.jupyter.widget-view+json": {
       "model_id": "0aa3c46afe6340e1b03f2ba3815d807d",
       "version_major": 2,
       "version_minor": 0
      },
      "text/plain": [
       "  0%|          | 0/100 [00:00<?, ?it/s]"
      ]
     },
     "metadata": {},
     "output_type": "display_data"
    }
   ],
   "source": [
    "for i in tqdm(range(1,101)):\n",
    "    X_train, y_train = load(open(f'SMILEsmilesD_balanced_features/train_features_HOGShape_{i}.pkl', 'rb')), \\\n",
    "                        load(open(f'SMILEsmilesD_balanced_features/train_labels_HOGShape_{i}.pkl', 'rb'))\n",
    "    X_test, y_test = load(open(f'SMILEsmilesD_balanced_features/test_features_HOGShape_{i}.pkl', 'rb')), \\\n",
    "                        load(open(f'SMILEsmilesD_balanced_features/test_labels_HOGShape_{i}.pkl', 'rb'))\n",
    "    clf = make_pipeline(StandardScaler(), SVC(gamma='auto', kernel='rbf', C=1))\n",
    "    clf.fit(X_train, y_train)\n",
    "    y_pred = clf.predict(X_test)\n",
    "    mcc = matthews_corrcoef(y_true=y_test, y_pred=y_pred, sample_weight=None)\n",
    "    report = classification_report(y_test, y_pred, target_names=np.unique(y_test), output_dict=True)\n",
    "    f1 = f1_score(y_true=y_test, y_pred=y_pred, pos_label=np.unique(y_test)[1])\n",
    "    acc = accuracy_score(y_test, y_pred)\n",
    "    if 'gamma_auto' not in mccs.keys():\n",
    "        mccs['gamma_auto'] = []\n",
    "        reports['gamma_auto'] = []\n",
    "        f1_scores['gamma_auto'] = []\n",
    "        y_preds['gamma_auto'] = []\n",
    "        accs['gamma_auto'] = []\n",
    "    mccs['gamma_auto'].append(mcc)\n",
    "    reports['gamma_auto'].append(report)\n",
    "    f1_scores['gamma_auto'].append(f1)\n",
    "    y_preds['gamma_auto'].append(y_pred)\n",
    "    accs['gamma_auto'].append(acc)"
   ]
  },
  {
   "cell_type": "code",
   "execution_count": 4,
   "id": "763d5e18-9fbe-4754-ab8c-8fc54156a6d3",
   "metadata": {},
   "outputs": [],
   "source": [
    "df = pd.read_csv('SMILEsmilesD_balanced_features/sigmas_frac0.5_mean.csv')"
   ]
  },
  {
   "cell_type": "markdown",
   "id": "4e1092e2-8c37-4364-ba13-79f6e1ed8267",
   "metadata": {},
   "source": [
    "### Treinamento sigest Median"
   ]
  },
  {
   "cell_type": "code",
   "execution_count": 21,
   "id": "ba5a7b7b-55c0-4548-8748-d87af8f2bc2f",
   "metadata": {},
   "outputs": [
    {
     "data": {
      "application/vnd.jupyter.widget-view+json": {
       "model_id": "afbe311796d544e09544f750bbdfa8b9",
       "version_major": 2,
       "version_minor": 0
      },
      "text/plain": [
       "  0%|          | 0/100 [00:00<?, ?it/s]"
      ]
     },
     "metadata": {},
     "output_type": "display_data"
    }
   ],
   "source": [
    "for i in tqdm(range(1,101)):\n",
    "    X_train, y_train = load(open(f'SMILEsmilesD_balanced_features/train_features_HOGShape_{i}.pkl', 'rb')), \\\n",
    "                        load(open(f'SMILEsmilesD_balanced_features/train_labels_HOGShape_{i}.pkl', 'rb'))\n",
    "    X_test, y_test = load(open(f'SMILEsmilesD_balanced_features/test_features_HOGShape_{i}.pkl', 'rb')), \\\n",
    "                        load(open(f'SMILEsmilesD_balanced_features/test_labels_HOGShape_{i}.pkl', 'rb'))\n",
    "    clf = make_pipeline(StandardScaler(), SVC(gamma=df['median'][i-1], kernel='rbf', C=1))\n",
    "    clf.fit(X_train, y_train)\n",
    "    y_pred = clf.predict(X_test)\n",
    "    mcc = matthews_corrcoef(y_true=y_test, y_pred=y_pred, sample_weight=None)\n",
    "    report = classification_report(y_test, y_pred, target_names=np.unique(y_test), output_dict=True)\n",
    "    f1 = f1_score(y_true=y_test, y_pred=y_pred, pos_label=np.unique(y_test)[1])\n",
    "    acc = accuracy_score(y_test, y_pred)\n",
    "    if 'sigest_median' not in mccs.keys():\n",
    "        mccs['sigest_median'] = []\n",
    "        reports['sigest_median'] = []\n",
    "        f1_scores['sigest_median'] = []\n",
    "        y_preds['sigest_median'] = []\n",
    "        accs['sigest_median'] = []\n",
    "    mccs['sigest_median'].append(mcc)\n",
    "    reports['sigest_median'].append(report)\n",
    "    f1_scores['sigest_median'].append(f1)\n",
    "    y_preds['sigest_median'].append(y_pred)\n",
    "    accs['sigest_median'].append(acc)"
   ]
  },
  {
   "cell_type": "markdown",
   "id": "cc9e1a14-4390-43e4-9f1c-a62a1104518e",
   "metadata": {},
   "source": [
    "### Treinamento sigest 0.9 quantile"
   ]
  },
  {
   "cell_type": "code",
   "execution_count": 22,
   "id": "95d4a4a7-8711-4b06-b182-3cad41086ce8",
   "metadata": {},
   "outputs": [
    {
     "data": {
      "application/vnd.jupyter.widget-view+json": {
       "model_id": "6e6e6dc9a2e94fe4ac59fd638e52def3",
       "version_major": 2,
       "version_minor": 0
      },
      "text/plain": [
       "  0%|          | 0/100 [00:00<?, ?it/s]"
      ]
     },
     "metadata": {},
     "output_type": "display_data"
    }
   ],
   "source": [
    "for i in tqdm(range(1,101)):\n",
    "    X_train, y_train = load(open(f'SMILEsmilesD_balanced_features/train_features_HOGShape_{i}.pkl', 'rb')), \\\n",
    "                        load(open(f'SMILEsmilesD_balanced_features/train_labels_HOGShape_{i}.pkl', 'rb'))\n",
    "    X_test, y_test = load(open(f'SMILEsmilesD_balanced_features/test_features_HOGShape_{i}.pkl', 'rb')), \\\n",
    "                        load(open(f'SMILEsmilesD_balanced_features/test_labels_HOGShape_{i}.pkl', 'rb'))\n",
    "    clf = make_pipeline(StandardScaler(), SVC(gamma=df['09quantile'][i-1], kernel='rbf', C=1))\n",
    "    clf.fit(X_train, y_train)\n",
    "    y_pred = clf.predict(X_test)\n",
    "    mcc = matthews_corrcoef(y_true=y_test, y_pred=y_pred, sample_weight=None)\n",
    "    report = classification_report(y_test, y_pred, target_names=np.unique(y_test), output_dict=True)\n",
    "    f1 = f1_score(y_true=y_test, y_pred=y_pred, pos_label=np.unique(y_test)[1])\n",
    "    acc = accuracy_score(y_test, y_pred)\n",
    "    if 'sigest_0.9quantile' not in mccs.keys():\n",
    "        mccs['sigest_0.9quantile'] = []\n",
    "        reports['sigest_0.9quantile'] = []\n",
    "        f1_scores['sigest_0.9quantile'] = []\n",
    "        y_preds['sigest_0.9quantile'] = []\n",
    "        accs['sigest_0.9quantile'] = []\n",
    "    mccs['sigest_0.9quantile'].append(mcc)\n",
    "    reports['sigest_0.9quantile'].append(report)\n",
    "    f1_scores['sigest_0.9quantile'].append(f1)\n",
    "    y_preds['sigest_0.9quantile'].append(y_pred)\n",
    "    accs['sigest_0.9quantile'].append(acc)"
   ]
  },
  {
   "cell_type": "markdown",
   "id": "658e9c75-e4e5-43a8-9377-b130fa167504",
   "metadata": {},
   "source": [
    "### Treinamento sigest media dos quantis"
   ]
  },
  {
   "cell_type": "code",
   "execution_count": 23,
   "id": "916f2cb9-add7-464b-b69e-34acee790800",
   "metadata": {},
   "outputs": [
    {
     "data": {
      "application/vnd.jupyter.widget-view+json": {
       "model_id": "a803aad94b414708b38e70c8c5a12749",
       "version_major": 2,
       "version_minor": 0
      },
      "text/plain": [
       "  0%|          | 0/100 [00:00<?, ?it/s]"
      ]
     },
     "metadata": {},
     "output_type": "display_data"
    }
   ],
   "source": [
    "for i in tqdm(range(1,101)):\n",
    "    X_train, y_train = load(open(f'SMILEsmilesD_balanced_features/train_features_HOGShape_{i}.pkl', 'rb')), \\\n",
    "                        load(open(f'SMILEsmilesD_balanced_features/train_labels_HOGShape_{i}.pkl', 'rb'))\n",
    "    X_test, y_test = load(open(f'SMILEsmilesD_balanced_features/test_features_HOGShape_{i}.pkl', 'rb')), \\\n",
    "                        load(open(f'SMILEsmilesD_balanced_features/test_labels_HOGShape_{i}.pkl', 'rb'))\n",
    "    gamma_mean_sigest = (df['09quantile'][i-1] + df['01quantile'][i-1]) / 2.\n",
    "    clf = make_pipeline(StandardScaler(), SVC(gamma=gamma_mean_sigest, kernel='rbf', C=1))\n",
    "    clf.fit(X_train, y_train)\n",
    "    y_pred = clf.predict(X_test)\n",
    "    mcc = matthews_corrcoef(y_true=y_test, y_pred=y_pred, sample_weight=None)\n",
    "    report = classification_report(y_test, y_pred, target_names=np.unique(y_test), output_dict=True)\n",
    "    f1 = f1_score(y_true=y_test, y_pred=y_pred, pos_label=np.unique(y_test)[1])\n",
    "    acc = accuracy_score(y_test, y_pred)\n",
    "    if 'gamma_mean_sigest' not in mccs.keys():\n",
    "        mccs['gamma_mean_sigest'] = []\n",
    "        reports['gamma_mean_sigest'] = []\n",
    "        f1_scores['gamma_mean_sigest'] = []\n",
    "        y_preds['gamma_mean_sigest'] = []\n",
    "        accs['gamma_mean_sigest'] = []\n",
    "    mccs['gamma_mean_sigest'].append(mcc)\n",
    "    reports['gamma_mean_sigest'].append(report)\n",
    "    f1_scores['gamma_mean_sigest'].append(f1)\n",
    "    y_preds['gamma_mean_sigest'].append(y_pred)\n",
    "    accs['gamma_mean_sigest'].append(acc)"
   ]
  },
  {
   "cell_type": "markdown",
   "id": "da8a9f01-977f-4cf3-8464-58e70945e404",
   "metadata": {},
   "source": [
    "### Treinamento gamma = 1/N"
   ]
  },
  {
   "cell_type": "code",
   "execution_count": 24,
   "id": "eb200b31-ecb8-4baf-a893-87b006e8cad9",
   "metadata": {},
   "outputs": [],
   "source": [
    "if False:\n",
    "    for i in tqdm(range(1,101)):\n",
    "        X_train, y_train = load(open(f'SMILEsmilesD_balanced_features/train_features_HOGShape_{i}.pkl', 'rb')), \\\n",
    "                            load(open(f'SMILEsmilesD_balanced_features/train_labels_HOGShape_{i}.pkl', 'rb'))\n",
    "        X_test, y_test = load(open(f'SMILEsmilesD_balanced_features/test_features_HOGShape_{i}.pkl', 'rb')), \\\n",
    "                            load(open(f'SMILEsmilesD_balanced_features/test_labels_HOGShape_{i}.pkl', 'rb'))\n",
    "        gamma_N = 1./(X_train.shape[0])\n",
    "        clf = make_pipeline(StandardScaler(), SVC(gamma=gamma_N, kernel='rbf', C=1))\n",
    "        clf.fit(X_train, y_train)\n",
    "        y_pred = clf.predict(X_test)\n",
    "        mcc = matthews_corrcoef(y_true=y_test, y_pred=y_pred, sample_weight=None)\n",
    "        report = classification_report(y_test, y_pred, target_names=np.unique(y_test), output_dict=True)\n",
    "        f1 = f1_score(y_true=y_test, y_pred=y_pred, pos_label=np.unique(y_test)[1])\n",
    "        acc = accuracy_score(y_test, y_pred)\n",
    "        if 'gamma_N' not in mccs.keys():\n",
    "            mccs['gamma_N'] = []\n",
    "            reports['gamma_N'] = []\n",
    "            f1_scores['gamma_N'] = []\n",
    "            y_preds['gamma_N'] = []\n",
    "            accs['gamma_N'] = []\n",
    "        mccs['gamma_N'].append(mcc)\n",
    "        reports['gamma_N'].append(report)\n",
    "        f1_scores['gamma_N'].append(f1)\n",
    "        y_preds['gamma_N'].append(y_pred)\n",
    "        accs['gamma_N'].append(acc)"
   ]
  },
  {
   "cell_type": "code",
   "execution_count": 25,
   "id": "9605e9c8-ab2a-4173-ae5f-983a7fab21d7",
   "metadata": {},
   "outputs": [
    {
     "name": "stdout",
     "output_type": "stream",
     "text": [
      "Mean MCC score for gamma_auto is 0.9012224562542553 with variation 0.0004399569235513652\n",
      "Mean MCC score for sigest_median is 0.9008188891828371 with variation 0.0004932114846769714\n",
      "Mean MCC score for sigest_0.9quantile is 0.9016538794928838 with variation 0.00046702604829308085\n",
      "Mean MCC score for gamma_mean_sigest is 0.9011049931285278 with variation 0.0004727322284693805\n"
     ]
    }
   ],
   "source": [
    "for k, v in mccs.items():\n",
    "    mcc_var = np.array(v).var()\n",
    "    mcc_mean = np.array(v).mean()\n",
    "    print(f'Mean MCC score for {k} is {mcc_mean} with variation {mcc_var}')"
   ]
  },
  {
   "cell_type": "code",
   "execution_count": 27,
   "id": "62fad4f5-685a-4eb4-99eb-535fa2aebb01",
   "metadata": {},
   "outputs": [
    {
     "name": "stdout",
     "output_type": "stream",
     "text": [
      "Mean ACC score for gamma_auto is 0.9505555555555554 with variation 0.00011003086419753108\n",
      "Mean ACC score for sigest_median is 0.9503611111111111 with variation 0.0001234035493827162\n",
      "Mean ACC score for sigest_0.9quantile is 0.9507777777777777 with variation 0.00011652469135802482\n",
      "Mean ACC score for gamma_mean_sigest is 0.9505000000000001 with variation 0.00011826851851851868\n"
     ]
    }
   ],
   "source": [
    "for k, v in accs.items():\n",
    "    acc_var = np.array(v).var()\n",
    "    acc_mean = np.array(v).mean()\n",
    "    print(f'Mean ACC score for {k} is {acc_mean} with variation {acc_var}')"
   ]
  },
  {
   "cell_type": "code",
   "execution_count": 38,
   "id": "95069431-e7f9-4685-9843-d5083dfbb490",
   "metadata": {},
   "outputs": [],
   "source": [
    "with open('mccs_balanced.json', 'w') as jsonFile:\n",
    "    json.dump(mccs, jsonFile, indent=2)\n",
    "with open('accs_balanced.json', 'w') as jsonFile:\n",
    "    json.dump(accs, jsonFile, indent=2)\n",
    "with open('f1scores_balanced.json', 'w') as jsonFile:\n",
    "    json.dump(f1_scores, jsonFile, indent=2)"
   ]
  },
  {
   "cell_type": "code",
   "execution_count": 42,
   "id": "9da82dbc-4ba0-412b-9af2-0acf1b58a3db",
   "metadata": {},
   "outputs": [
    {
     "name": "stdout",
     "output_type": "stream",
     "text": [
      "100 100 100\n",
      "100 100 100\n",
      "100 100 100\n",
      "100 100 100\n"
     ]
    }
   ],
   "source": [
    "for i in range(4):\n",
    "    print(len(list(accs.values())[i]), len(list(mccs.values())[i]), len(list(f1_scores.values())[i]))"
   ]
  },
  {
   "cell_type": "code",
   "execution_count": 28,
   "id": "54e6b325-3589-4f32-92e0-ef16ed5fb00f",
   "metadata": {},
   "outputs": [
    {
     "name": "stdout",
     "output_type": "stream",
     "text": [
      "GAMMA gamma_auto\n",
      "F1-score for smile using gamma gamma_auto is 0.9501048313633227 with variation 0.00012750152927208807\n",
      "F1-score for notsmile using gamma gamma_auto is 0.9508288828268208 with variation 0.00010272167701481383\n",
      "\n",
      "GAMMA sigest_median\n",
      "F1-score for smile using gamma sigest_median is 0.9499294596289993 with variation 0.00014302607296058916\n",
      "F1-score for notsmile using gamma sigest_median is 0.9506192007662313 with variation 0.00011369610750870291\n",
      "\n",
      "GAMMA sigest_0.9quantile\n",
      "F1-score for smile using gamma sigest_0.9quantile is 0.950309630339243 with variation 0.00013654365311642594\n",
      "F1-score for notsmile using gamma sigest_0.9quantile is 0.9510670136241347 with variation 0.00010701184950126023\n",
      "\n",
      "GAMMA gamma_mean_sigest\n",
      "F1-score for smile using gamma gamma_mean_sigest is 0.9500641619971409 with variation 0.00013745338187183564\n",
      "F1-score for notsmile using gamma gamma_mean_sigest is 0.9507624463055575 with variation 0.00010889838130637885\n",
      "\n"
     ]
    },
    {
     "data": {
      "image/png": "[encoded data removed]",
      "text/plain": [
       "<Figure size 1080x720 with 1 Axes>"
      ]
     },
     "metadata": {
      "needs_background": "light"
     },
     "output_type": "display_data"
    }
   ],
   "source": [
    "f1s = []\n",
    "for k, v in reports.items():\n",
    "    f1s_smile = []\n",
    "    f1s_notsmile = []\n",
    "    for report in v:\n",
    "        f1s_smile.append(report['smile']['f1-score'])\n",
    "        f1s_notsmile.append(report['notsmile']['f1-score'])\n",
    "    f1s_smile = np.array(f1s_smile)\n",
    "    f1s_notsmile = np.array(f1s_notsmile)\n",
    "    f1s.append([k, f1s_smile, f1s_notsmile])\n",
    "    print(f'GAMMA {k}')\n",
    "    print(f'F1-score for smile using gamma {k} is {f1s_smile.mean()} with variation {f1s_smile.var()}')\n",
    "    print(f'F1-score for notsmile using gamma {k} is {f1s_notsmile.mean()} with variation {f1s_notsmile.var()}')\n",
    "    print('')\n",
    "f1df_smile = pd.DataFrame(np.array([x[1] for x in f1s]).T, columns=['smile_' + x[0] for x in f1s])\n",
    "f1df_notsmile = pd.DataFrame(np.array([x[2] for x in f1s]).T, columns=['notsmile_' + x[0] for x in f1s])\n",
    "\n",
    "f1df = f1df_smile.append(f1df_notsmile)\n",
    "plot = f1df.boxplot(figsize=(15,10), grid=False, rot=45, return_type='dict', patch_artist = True,fontsize=15)\n",
    "colors = ['blue', 'yellow']\n",
    "i = 0\n",
    "for patch in plot['boxes']:\n",
    "    patch.set(facecolor = colors[0] if i<5 else colors[1])\n",
    "    i-=-1\n",
    "plt.title('F1-Score')\n",
    "plt.xlabel('Auto Tuning')\n",
    "plt.ylabel('F1')\n",
    "plt.suptitle('')\n",
    "red_patch = mpatches.Patch(color='yellow', label='Smile F1 Score')\n",
    "blue_patch = mpatches.Patch(color='blue', label='Not Smile F1 Score')\n",
    "plt.legend(handles=[red_patch, blue_patch])\n",
    "plt.show()"
   ]
  },
  {
   "cell_type": "code",
   "execution_count": 37,
   "id": "2e174eb6-6d8c-4110-9d25-2a6df9b53af9",
   "metadata": {
    "tags": []
   },
   "outputs": [
    {
     "name": "stdout",
     "output_type": "stream",
     "text": [
      "GAMMA gamma_auto\n",
      "F1-score is 0.9501048313633227 with variation 0.00012750152927208807\n",
      "\n",
      "GAMMA sigest_median\n",
      "F1-score is 0.9499294596289993 with variation 0.00014302607296058916\n",
      "\n",
      "GAMMA sigest_0.9quantile\n",
      "F1-score is 0.950309630339243 with variation 0.00013654365311642594\n",
      "\n",
      "GAMMA gamma_mean_sigest\n",
      "F1-score is 0.9500641619971409 with variation 0.00013745338187183564\n",
      "\n"
     ]
    },
    {
     "data": {
      "image/png": "[encoded data removed]",
      "text/plain": [
       "<Figure size 1080x720 with 1 Axes>"
      ]
     },
     "metadata": {
      "needs_background": "light"
     },
     "output_type": "display_data"
    }
   ],
   "source": [
    "f1s = []\n",
    "for k, v in f1_scores.items():\n",
    "    f1_score = []\n",
    "    for f1 in v:\n",
    "        f1_score.append(f1)\n",
    "    f1_score = np.array(f1_score)\n",
    "    f1s.append([k, f1_score])\n",
    "    print(f'GAMMA {k}')\n",
    "    print(f'F1-score is {f1_score.mean()} with variation {f1_score.var()}')\n",
    "    print('')\n",
    "f1df = pd.DataFrame(np.array([x[1] for x in f1s]).T, columns=[x[0] for x in f1s])\n",
    "\n",
    "f1df = f1df.rename(columns={'gamma_N_smile': '1 / (Number of samples)',\n",
    "                              'gamma_N_notsmile': '1 / (Number of samples)',\n",
    "                              'gamma_mean_sigest': '(90%-quantile - 10%-quantile) / 2',\n",
    "                              'gamma_mean_sigest_notsmile': '(90%-quantile - 10%-quantile) / 2',\n",
    "                              'sigest_0.9quantile': '90%-quantile',\n",
    "                              'sigest_0.9quantile_notsmile': '90%-quantile',\n",
    "                              'sigest_median': 'median',\n",
    "                              'sigest_median_notsmile': 'median',\n",
    "                              'gamma_auto': '1 / (Number of features)',\n",
    "                              'gamma_auto_notsmile': '1 / (Number of features)'})\n",
    "\n",
    "plot = f1df.boxplot(figsize=(15,10), grid=False, rot=0, return_type='dict', patch_artist = True,fontsize=15, vert=False)\n",
    "colors = ['royalblue', 'yellow']\n",
    "i = 0\n",
    "for patch in plot['boxes']:\n",
    "    patch.set(facecolor = colors[0] if i<5 else colors[1])\n",
    "    i-=-1\n",
    "plt.xlabel('Methods', fontsize=18)\n",
    "plt.ylabel('F1-Score', fontsize=18)\n",
    "plt.suptitle('')\n",
    "blue_patch = mpatches.Patch(color='royalblue', label='F1 Score')\n",
    "plt.legend(handles=[blue_patch])\n",
    "plt.show()"
   ]
  }
 ],
 "metadata": {
  "kernelspec": {
   "display_name": "Python 3 (ipykernel)",
   "language": "python",
   "name": "python3"
  },
  "language_info": {
   "codemirror_mode": {
    "name": "ipython",
    "version": 3
   },
   "file_extension": ".py",
   "mimetype": "text/x-python",
   "name": "python",
   "nbconvert_exporter": "python",
   "pygments_lexer": "ipython3",
   "version": "3.9.5"
  }
 },
 "nbformat": 4,
 "nbformat_minor": 5
}
