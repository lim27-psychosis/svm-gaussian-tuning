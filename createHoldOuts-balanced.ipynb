{
 "cells": [
  {
   "cell_type": "code",
   "execution_count": 2,
   "id": "1fe3cfdc-bd41-4be1-af79-ad5582bfb003",
   "metadata": {},
   "outputs": [],
   "source": [
    "from pickle import dump, load\n",
    "from tqdm.notebook import tqdm\n",
    "from skimage import feature\n",
    "import cv2, os, dlib, imutils\n",
    "from imutils import face_utils\n",
    "import numpy as np\n",
    "from sklearn.model_selection import train_test_split\n",
    "from mpl_toolkits.axes_grid1 import ImageGrid\n",
    "import matplotlib.pyplot as plt\n"
   ]
  },
  {
   "cell_type": "code",
   "execution_count": 5,
   "id": "ba103105-00fd-4295-9cc3-7eafae5c9434",
   "metadata": {},
   "outputs": [
    {
     "name": "stdout",
     "output_type": "stream",
     "text": [
      "Dataset text already downloaded\n"
     ]
    }
   ],
   "source": [
    "if not os.path.isfile('yz4v8tb3tp-1.zip'):\n",
    "    !wget https://md-datasets-cache-zipfiles-prod.s3.eu-west-1.amazonaws.com/yz4v8tb3tp-1.zip\n",
    "    !unzip yz4v8tb3tp-1.zip\n",
    "else:\n",
    "    print('Dataset text already downloaded')"
   ]
  },
  {
   "cell_type": "code",
   "execution_count": 9,
   "id": "9c919c0c-9a30-4d36-a7c7-17ba876113fb",
   "metadata": {},
   "outputs": [
    {
     "name": "stdout",
     "output_type": "stream",
     "text": [
      "Dataset images already downloaded\n"
     ]
    }
   ],
   "source": [
    "if not os.path.isfile('lfwcrop_grey.zip'):\n",
    "    !wget https://conradsanderson.id.au/lfwcrop/lfwcrop_grey.zip\n",
    "    !unzip -q lfwcrop_grey.zip\n",
    "else:\n",
    "    print('Dataset images already downloaded')"
   ]
  },
  {
   "cell_type": "code",
   "execution_count": 3,
   "id": "f09e348a-cc4e-4390-a898-a9013b24a445",
   "metadata": {},
   "outputs": [
    {
     "name": "stdout",
     "output_type": "stream",
     "text": [
      "Dlib's shape predictor already downloaded\n"
     ]
    }
   ],
   "source": [
    "if not os.path.isfile('shape_predictor_68_face_landmarks.dat'):\n",
    "    !wget https://github.com/davisking/dlib-models/raw/master/shape_predictor_68_face_landmarks.dat.bz2\n",
    "    !bzip2 -d shape_predictor_68_face_landmarks.dat.bz2\n",
    "else:\n",
    "    print('Dlib\\'s shape predictor already downloaded')"
   ]
  },
  {
   "cell_type": "code",
   "execution_count": 2,
   "id": "48aac894-3819-465b-a86f-6e3d22cc0352",
   "metadata": {},
   "outputs": [],
   "source": [
    "predictor = dlib.shape_predictor('shape_predictor_68_face_landmarks.dat')"
   ]
  },
  {
   "cell_type": "code",
   "execution_count": 36,
   "id": "4a727dab-48e1-4021-8229-249ba54baf37",
   "metadata": {},
   "outputs": [
    {
     "data": {
      "application/vnd.jupyter.widget-view+json": {
       "model_id": "0185493ec3c546be850bc2164ba344af",
       "version_major": 2,
       "version_minor": 0
      },
      "text/plain": [
       "  0%|          | 0/603 [00:00<?, ?it/s]"
      ]
     },
     "metadata": {},
     "output_type": "display_data"
    },
    {
     "data": {
      "application/vnd.jupyter.widget-view+json": {
       "model_id": "407f2a5343914d2e8e51323506addaf5",
       "version_major": 2,
       "version_minor": 0
      },
      "text/plain": [
       "  0%|          | 0/601 [00:00<?, ?it/s]"
      ]
     },
     "metadata": {},
     "output_type": "display_data"
    },
    {
     "name": "stdout",
     "output_type": "stream",
     "text": [
      "(1200, 648) (1200,)\n"
     ]
    }
   ],
   "source": [
    "with open('SMILE_list.txt', 'r') as smileTxt:\n",
    "    smiles = smileTxt.read()\n",
    "with open('NON-SMILE_list.txt', 'r') as notsmileTxt:\n",
    "    notsmiles = notsmileTxt.read()\n",
    "\n",
    "X, Y = [], []\n",
    "\n",
    "for name in tqdm(smiles.split('\\n')):\n",
    "    if name == '': continue\n",
    "    if name[-3:] != 'jpg': continue\n",
    "    classe = 'smile'\n",
    "    imgpath = os.path.join('lfwcrop_grey/faces/', name.replace('jpg', 'pgm'))\n",
    "    img_smile = cv2.imread(imgpath)\n",
    "    h, w = img.shape[:2]\n",
    "    # frame = imutils.resize(img, width=128)\n",
    "    gray = cv2.cvtColor(img_smile, cv2.COLOR_BGR2GRAY)\n",
    "    fd , vis_smile = feature.hog(img_smile, orientations=8, pixels_per_cell=(8, 8),\n",
    "                cells_per_block=(1, 1), visualize=True, feature_vector=True)\n",
    "    rect = dlib.rectangle(left=0, top=0, right=w, bottom=h)\n",
    "    shape = predictor(gray, rect)\n",
    "    shape_smile = face_utils.shape_to_np(shape)\n",
    "    # print(shape.shape, fd.shape)\n",
    "    # break\n",
    "    X.append(np.concatenate([fd, shape_smile.flatten()]))\n",
    "    Y.append(classe)\n",
    "for name in tqdm(notsmiles.split('\\n')):\n",
    "    if name == '': continue\n",
    "    if name[-3:] != 'jpg': continue\n",
    "    classe = 'notsmile'\n",
    "    imgpath = os.path.join('lfwcrop_grey/faces/', name.replace('jpg', 'pgm'))\n",
    "    img_notsmile = cv2.imread(imgpath)\n",
    "    h, w = img.shape[:2]\n",
    "    # frame = imutils.resize(img, width=128)\n",
    "    gray = cv2.cvtColor(img_notsmile, cv2.COLOR_BGR2GRAY)\n",
    "    fd , vis_notsmile = feature.hog(img_notsmile, orientations=8, pixels_per_cell=(8, 8),\n",
    "                cells_per_block=(1, 1), visualize=True, feature_vector=True)\n",
    "    rect = dlib.rectangle(left=0, top=0, right=w, bottom=h)\n",
    "    shape = predictor(gray, rect)\n",
    "    shape_notsmile = face_utils.shape_to_np(shape)\n",
    "    # print(shape.shape, fd.shape)\n",
    "    # break\n",
    "    X.append(np.concatenate([fd, shape_notsmile.flatten()]))\n",
    "    Y.append(classe)\n",
    "X = np.array(X)\n",
    "Y = np.array(Y)\n",
    "print(X.shape, Y.shape)"
   ]
  },
  {
   "cell_type": "code",
   "execution_count": 16,
   "id": "536265c5-58b8-4654-92e0-38386f307fb5",
   "metadata": {},
   "outputs": [
    {
     "data": {
      "application/vnd.jupyter.widget-view+json": {
       "model_id": "23746fa5326c460db7110f6110fc6df7",
       "version_major": 2,
       "version_minor": 0
      },
      "text/plain": [
       "  0%|          | 0/100 [00:00<?, ?it/s]"
      ]
     },
     "metadata": {},
     "output_type": "display_data"
    }
   ],
   "source": [
    "for i in tqdm(range(1,101)):\n",
    "    X_train, X_test, y_train, y_test = train_test_split(X, Y, test_size=0.3, random_state=i)\n",
    "    feat_path_train = f'SMILEsmilesD_balanced_features/train_features_HOGShape_{i}.pkl'\n",
    "    labels_path_train = f'SMILEsmilesD_balanced_features/train_labels_HOGShape_{i}.pkl'\n",
    "    feat_path_test = f'SMILEsmilesD_balanced_features/test_features_HOGShape_{i}.pkl'\n",
    "    labels_path_test = f'SMILEsmilesD_balanced_features/test_labels_HOGShape_{i}.pkl'\n",
    "    dump(X_train, open(feat_path_train, 'wb'))\n",
    "    dump(y_train, open(labels_path_train, 'wb'))\n",
    "    dump(X_test, open(feat_path_test, 'wb'))\n",
    "    dump(y_test, open(labels_path_test, 'wb'))"
   ]
  },
  {
   "cell_type": "markdown",
   "id": "497e3c86-be46-4976-bade-535cc482cc24",
   "metadata": {},
   "source": [
    "### Checking that feed works"
   ]
  },
  {
   "cell_type": "code",
   "execution_count": 17,
   "id": "0e6c7f21-757e-48af-aeb0-aabeb08093ca",
   "metadata": {},
   "outputs": [],
   "source": [
    "X_train2, X_test2, y_train2, y_test2 = train_test_split(X, Y, test_size=0.3, random_state=100)"
   ]
  },
  {
   "cell_type": "code",
   "execution_count": 18,
   "id": "0a969311-7974-4dfb-a367-06b1ed257008",
   "metadata": {},
   "outputs": [
    {
     "data": {
      "text/plain": [
       "True"
      ]
     },
     "execution_count": 18,
     "metadata": {},
     "output_type": "execute_result"
    }
   ],
   "source": [
    "(X_train == X_train2).all()"
   ]
  },
  {
   "cell_type": "code",
   "execution_count": 76,
   "id": "08da7bb7-961e-4661-984c-1258e7a8db17",
   "metadata": {},
   "outputs": [
    {
     "data": {
      "text/plain": [
       "(1200, 648)"
      ]
     },
     "execution_count": 76,
     "metadata": {},
     "output_type": "execute_result"
    }
   ],
   "source": [
    "X.shape"
   ]
  },
  {
   "cell_type": "code",
   "execution_count": 99,
   "id": "048b7735-9ceb-4bdb-a49d-c93d7447401c",
   "metadata": {},
   "outputs": [],
   "source": [
    "import pandas as pd"
   ]
  },
  {
   "cell_type": "code",
   "execution_count": 124,
   "id": "e7b70967-570a-4782-a548-7ba8014e35eb",
   "metadata": {},
   "outputs": [],
   "source": [
    "feats = pd.DataFrame(X)\n",
    "labels = pd.DataFrame(Y)"
   ]
  },
  {
   "cell_type": "code",
   "execution_count": 130,
   "id": "446509ab-77fd-4289-9d77-0ff689279e9d",
   "metadata": {},
   "outputs": [
    {
     "data": {
      "text/html": [
       "<div>\n",
       "<style scoped>\n",
       "    .dataframe tbody tr th:only-of-type {\n",
       "        vertical-align: middle;\n",
       "    }\n",
       "\n",
       "    .dataframe tbody tr th {\n",
       "        vertical-align: top;\n",
       "    }\n",
       "\n",
       "    .dataframe thead th {\n",
       "        text-align: right;\n",
       "    }\n",
       "</style>\n",
       "<table border=\"1\" class=\"dataframe\">\n",
       "  <thead>\n",
       "    <tr style=\"text-align: right;\">\n",
       "      <th></th>\n",
       "      <th>0</th>\n",
       "      <th>1</th>\n",
       "      <th>2</th>\n",
       "      <th>3</th>\n",
       "      <th>4</th>\n",
       "      <th>5</th>\n",
       "      <th>6</th>\n",
       "      <th>7</th>\n",
       "      <th>8</th>\n",
       "      <th>9</th>\n",
       "      <th>...</th>\n",
       "      <th>639</th>\n",
       "      <th>640</th>\n",
       "      <th>641</th>\n",
       "      <th>642</th>\n",
       "      <th>643</th>\n",
       "      <th>644</th>\n",
       "      <th>645</th>\n",
       "      <th>646</th>\n",
       "      <th>647</th>\n",
       "      <th>648</th>\n",
       "    </tr>\n",
       "  </thead>\n",
       "  <tbody>\n",
       "    <tr>\n",
       "      <th>0</th>\n",
       "      <td>0.353553</td>\n",
       "      <td>0.353553</td>\n",
       "      <td>0.353553</td>\n",
       "      <td>0.353553</td>\n",
       "      <td>0.353553</td>\n",
       "      <td>0.353553</td>\n",
       "      <td>0.353553</td>\n",
       "      <td>0.353553</td>\n",
       "      <td>0.104653</td>\n",
       "      <td>0.098450</td>\n",
       "      <td>...</td>\n",
       "      <td>48.0</td>\n",
       "      <td>45.0</td>\n",
       "      <td>47.0</td>\n",
       "      <td>37.0</td>\n",
       "      <td>50.0</td>\n",
       "      <td>33.0</td>\n",
       "      <td>51.0</td>\n",
       "      <td>30.0</td>\n",
       "      <td>50.0</td>\n",
       "      <td>smile</td>\n",
       "    </tr>\n",
       "    <tr>\n",
       "      <th>1</th>\n",
       "      <td>0.420303</td>\n",
       "      <td>0.420303</td>\n",
       "      <td>0.410624</td>\n",
       "      <td>0.137603</td>\n",
       "      <td>0.420303</td>\n",
       "      <td>0.060079</td>\n",
       "      <td>0.319728</td>\n",
       "      <td>0.420303</td>\n",
       "      <td>0.490249</td>\n",
       "      <td>0.490249</td>\n",
       "      <td>...</td>\n",
       "      <td>47.0</td>\n",
       "      <td>50.0</td>\n",
       "      <td>46.0</td>\n",
       "      <td>39.0</td>\n",
       "      <td>47.0</td>\n",
       "      <td>35.0</td>\n",
       "      <td>49.0</td>\n",
       "      <td>30.0</td>\n",
       "      <td>49.0</td>\n",
       "      <td>smile</td>\n",
       "    </tr>\n",
       "    <tr>\n",
       "      <th>2</th>\n",
       "      <td>0.408612</td>\n",
       "      <td>0.265078</td>\n",
       "      <td>0.159990</td>\n",
       "      <td>0.263286</td>\n",
       "      <td>0.408612</td>\n",
       "      <td>0.408612</td>\n",
       "      <td>0.408612</td>\n",
       "      <td>0.408612</td>\n",
       "      <td>0.456930</td>\n",
       "      <td>0.456930</td>\n",
       "      <td>...</td>\n",
       "      <td>45.0</td>\n",
       "      <td>46.0</td>\n",
       "      <td>47.0</td>\n",
       "      <td>37.0</td>\n",
       "      <td>50.0</td>\n",
       "      <td>33.0</td>\n",
       "      <td>50.0</td>\n",
       "      <td>28.0</td>\n",
       "      <td>49.0</td>\n",
       "      <td>smile</td>\n",
       "    </tr>\n",
       "    <tr>\n",
       "      <th>3</th>\n",
       "      <td>0.391512</td>\n",
       "      <td>0.391512</td>\n",
       "      <td>0.391512</td>\n",
       "      <td>0.391512</td>\n",
       "      <td>0.391512</td>\n",
       "      <td>0.072109</td>\n",
       "      <td>0.274066</td>\n",
       "      <td>0.391512</td>\n",
       "      <td>0.447818</td>\n",
       "      <td>0.145835</td>\n",
       "      <td>...</td>\n",
       "      <td>46.0</td>\n",
       "      <td>49.0</td>\n",
       "      <td>48.0</td>\n",
       "      <td>40.0</td>\n",
       "      <td>51.0</td>\n",
       "      <td>35.0</td>\n",
       "      <td>52.0</td>\n",
       "      <td>30.0</td>\n",
       "      <td>51.0</td>\n",
       "      <td>smile</td>\n",
       "    </tr>\n",
       "    <tr>\n",
       "      <th>4</th>\n",
       "      <td>0.409474</td>\n",
       "      <td>0.000000</td>\n",
       "      <td>0.326322</td>\n",
       "      <td>0.409474</td>\n",
       "      <td>0.409474</td>\n",
       "      <td>0.409474</td>\n",
       "      <td>0.409474</td>\n",
       "      <td>0.234877</td>\n",
       "      <td>0.417017</td>\n",
       "      <td>0.294657</td>\n",
       "      <td>...</td>\n",
       "      <td>43.0</td>\n",
       "      <td>48.0</td>\n",
       "      <td>45.0</td>\n",
       "      <td>43.0</td>\n",
       "      <td>47.0</td>\n",
       "      <td>39.0</td>\n",
       "      <td>48.0</td>\n",
       "      <td>35.0</td>\n",
       "      <td>48.0</td>\n",
       "      <td>smile</td>\n",
       "    </tr>\n",
       "    <tr>\n",
       "      <th>...</th>\n",
       "      <td>...</td>\n",
       "      <td>...</td>\n",
       "      <td>...</td>\n",
       "      <td>...</td>\n",
       "      <td>...</td>\n",
       "      <td>...</td>\n",
       "      <td>...</td>\n",
       "      <td>...</td>\n",
       "      <td>...</td>\n",
       "      <td>...</td>\n",
       "      <td>...</td>\n",
       "      <td>...</td>\n",
       "      <td>...</td>\n",
       "      <td>...</td>\n",
       "      <td>...</td>\n",
       "      <td>...</td>\n",
       "      <td>...</td>\n",
       "      <td>...</td>\n",
       "      <td>...</td>\n",
       "      <td>...</td>\n",
       "      <td>...</td>\n",
       "    </tr>\n",
       "    <tr>\n",
       "      <th>1195</th>\n",
       "      <td>0.502574</td>\n",
       "      <td>0.502574</td>\n",
       "      <td>0.502574</td>\n",
       "      <td>0.191199</td>\n",
       "      <td>0.439982</td>\n",
       "      <td>0.106278</td>\n",
       "      <td>0.009737</td>\n",
       "      <td>0.026952</td>\n",
       "      <td>0.484757</td>\n",
       "      <td>0.183713</td>\n",
       "      <td>...</td>\n",
       "      <td>52.0</td>\n",
       "      <td>44.0</td>\n",
       "      <td>51.0</td>\n",
       "      <td>37.0</td>\n",
       "      <td>51.0</td>\n",
       "      <td>33.0</td>\n",
       "      <td>52.0</td>\n",
       "      <td>28.0</td>\n",
       "      <td>51.0</td>\n",
       "      <td>notsmile</td>\n",
       "    </tr>\n",
       "    <tr>\n",
       "      <th>1196</th>\n",
       "      <td>0.333393</td>\n",
       "      <td>0.294520</td>\n",
       "      <td>0.581513</td>\n",
       "      <td>0.424163</td>\n",
       "      <td>0.369072</td>\n",
       "      <td>0.295158</td>\n",
       "      <td>0.222089</td>\n",
       "      <td>0.106673</td>\n",
       "      <td>0.158618</td>\n",
       "      <td>0.103495</td>\n",
       "      <td>...</td>\n",
       "      <td>47.0</td>\n",
       "      <td>44.0</td>\n",
       "      <td>49.0</td>\n",
       "      <td>38.0</td>\n",
       "      <td>49.0</td>\n",
       "      <td>35.0</td>\n",
       "      <td>49.0</td>\n",
       "      <td>31.0</td>\n",
       "      <td>49.0</td>\n",
       "      <td>notsmile</td>\n",
       "    </tr>\n",
       "    <tr>\n",
       "      <th>1197</th>\n",
       "      <td>0.455375</td>\n",
       "      <td>0.455375</td>\n",
       "      <td>0.252769</td>\n",
       "      <td>0.000000</td>\n",
       "      <td>0.277863</td>\n",
       "      <td>0.171569</td>\n",
       "      <td>0.455375</td>\n",
       "      <td>0.455375</td>\n",
       "      <td>0.213583</td>\n",
       "      <td>0.311062</td>\n",
       "      <td>...</td>\n",
       "      <td>53.0</td>\n",
       "      <td>44.0</td>\n",
       "      <td>52.0</td>\n",
       "      <td>38.0</td>\n",
       "      <td>51.0</td>\n",
       "      <td>36.0</td>\n",
       "      <td>52.0</td>\n",
       "      <td>32.0</td>\n",
       "      <td>52.0</td>\n",
       "      <td>notsmile</td>\n",
       "    </tr>\n",
       "    <tr>\n",
       "      <th>1198</th>\n",
       "      <td>0.386656</td>\n",
       "      <td>0.386656</td>\n",
       "      <td>0.386656</td>\n",
       "      <td>0.386656</td>\n",
       "      <td>0.386656</td>\n",
       "      <td>0.139369</td>\n",
       "      <td>0.386656</td>\n",
       "      <td>0.289063</td>\n",
       "      <td>0.298037</td>\n",
       "      <td>0.432873</td>\n",
       "      <td>...</td>\n",
       "      <td>49.0</td>\n",
       "      <td>39.0</td>\n",
       "      <td>50.0</td>\n",
       "      <td>30.0</td>\n",
       "      <td>50.0</td>\n",
       "      <td>26.0</td>\n",
       "      <td>50.0</td>\n",
       "      <td>23.0</td>\n",
       "      <td>49.0</td>\n",
       "      <td>notsmile</td>\n",
       "    </tr>\n",
       "    <tr>\n",
       "      <th>1199</th>\n",
       "      <td>0.405337</td>\n",
       "      <td>0.405337</td>\n",
       "      <td>0.405337</td>\n",
       "      <td>0.293296</td>\n",
       "      <td>0.405337</td>\n",
       "      <td>0.000000</td>\n",
       "      <td>0.304115</td>\n",
       "      <td>0.405337</td>\n",
       "      <td>0.540358</td>\n",
       "      <td>0.540358</td>\n",
       "      <td>...</td>\n",
       "      <td>50.0</td>\n",
       "      <td>42.0</td>\n",
       "      <td>52.0</td>\n",
       "      <td>37.0</td>\n",
       "      <td>51.0</td>\n",
       "      <td>33.0</td>\n",
       "      <td>51.0</td>\n",
       "      <td>30.0</td>\n",
       "      <td>51.0</td>\n",
       "      <td>notsmile</td>\n",
       "    </tr>\n",
       "  </tbody>\n",
       "</table>\n",
       "<p>1200 rows × 649 columns</p>\n",
       "</div>"
      ],
      "text/plain": [
       "           0         1         2         3         4         5         6    \\\n",
       "0     0.353553  0.353553  0.353553  0.353553  0.353553  0.353553  0.353553   \n",
       "1     0.420303  0.420303  0.410624  0.137603  0.420303  0.060079  0.319728   \n",
       "2     0.408612  0.265078  0.159990  0.263286  0.408612  0.408612  0.408612   \n",
       "3     0.391512  0.391512  0.391512  0.391512  0.391512  0.072109  0.274066   \n",
       "4     0.409474  0.000000  0.326322  0.409474  0.409474  0.409474  0.409474   \n",
       "...        ...       ...       ...       ...       ...       ...       ...   \n",
       "1195  0.502574  0.502574  0.502574  0.191199  0.439982  0.106278  0.009737   \n",
       "1196  0.333393  0.294520  0.581513  0.424163  0.369072  0.295158  0.222089   \n",
       "1197  0.455375  0.455375  0.252769  0.000000  0.277863  0.171569  0.455375   \n",
       "1198  0.386656  0.386656  0.386656  0.386656  0.386656  0.139369  0.386656   \n",
       "1199  0.405337  0.405337  0.405337  0.293296  0.405337  0.000000  0.304115   \n",
       "\n",
       "           7         8         9    ...   639   640   641   642   643   644  \\\n",
       "0     0.353553  0.104653  0.098450  ...  48.0  45.0  47.0  37.0  50.0  33.0   \n",
       "1     0.420303  0.490249  0.490249  ...  47.0  50.0  46.0  39.0  47.0  35.0   \n",
       "2     0.408612  0.456930  0.456930  ...  45.0  46.0  47.0  37.0  50.0  33.0   \n",
       "3     0.391512  0.447818  0.145835  ...  46.0  49.0  48.0  40.0  51.0  35.0   \n",
       "4     0.234877  0.417017  0.294657  ...  43.0  48.0  45.0  43.0  47.0  39.0   \n",
       "...        ...       ...       ...  ...   ...   ...   ...   ...   ...   ...   \n",
       "1195  0.026952  0.484757  0.183713  ...  52.0  44.0  51.0  37.0  51.0  33.0   \n",
       "1196  0.106673  0.158618  0.103495  ...  47.0  44.0  49.0  38.0  49.0  35.0   \n",
       "1197  0.455375  0.213583  0.311062  ...  53.0  44.0  52.0  38.0  51.0  36.0   \n",
       "1198  0.289063  0.298037  0.432873  ...  49.0  39.0  50.0  30.0  50.0  26.0   \n",
       "1199  0.405337  0.540358  0.540358  ...  50.0  42.0  52.0  37.0  51.0  33.0   \n",
       "\n",
       "       645   646   647       648  \n",
       "0     51.0  30.0  50.0     smile  \n",
       "1     49.0  30.0  49.0     smile  \n",
       "2     50.0  28.0  49.0     smile  \n",
       "3     52.0  30.0  51.0     smile  \n",
       "4     48.0  35.0  48.0     smile  \n",
       "...    ...   ...   ...       ...  \n",
       "1195  52.0  28.0  51.0  notsmile  \n",
       "1196  49.0  31.0  49.0  notsmile  \n",
       "1197  52.0  32.0  52.0  notsmile  \n",
       "1198  50.0  23.0  49.0  notsmile  \n",
       "1199  51.0  30.0  51.0  notsmile  \n",
       "\n",
       "[1200 rows x 649 columns]"
      ]
     },
     "execution_count": 130,
     "metadata": {},
     "output_type": "execute_result"
    }
   ],
   "source": [
    "featslabels = pd.concat([feats, labels], axis=1, ignore_index=True)\n",
    "featslabels"
   ]
  },
  {
   "cell_type": "markdown",
   "id": "4f432a79-6ac8-4d39-aa5d-df614aa4ebca",
   "metadata": {},
   "source": [
    "### Saving all the features to calculate sigest for the whole dataset"
   ]
  },
  {
   "cell_type": "code",
   "execution_count": 46,
   "id": "1c241380-90d7-40c7-a45f-0d5f8d88b4fb",
   "metadata": {},
   "outputs": [],
   "source": [
    "dump(X, open('total_feats_balanced.pkl', 'wb'))\n",
    "dump(Y, open('total_labels_balanced.pkl', 'wb'))"
   ]
  },
  {
   "cell_type": "code",
   "execution_count": 132,
   "id": "fcae9bfa-afcd-49d8-badc-79163456e01b",
   "metadata": {},
   "outputs": [],
   "source": [
    "featslabels.to_csv('features_labels.csv', index=False)"
   ]
  },
  {
   "cell_type": "markdown",
   "id": "0750726c-d1e7-4f21-b3d5-dd76a74a3ef5",
   "metadata": {},
   "source": [
    "### Training models with each method with all the images from the dataset"
   ]
  },
  {
   "cell_type": "code",
   "execution_count": 47,
   "id": "9315cfb9-307b-467a-ace0-74ad127b2ff3",
   "metadata": {},
   "outputs": [],
   "source": [
    "from sklearn.preprocessing import StandardScaler\n",
    "from sklearn.pipeline import make_pipeline\n",
    "from sklearn.svm import SVC\n",
    "from joblib import dump"
   ]
  },
  {
   "cell_type": "raw",
   "id": "9ff73068-fcef-4571-8aec-457e9f4cdda1",
   "metadata": {},
   "source": [
    "Sigest calculated values\n",
    "    90%          50%          10% \n",
    "0.0005809022 0.0007995910 0.0010261919 "
   ]
  },
  {
   "cell_type": "code",
   "execution_count": 51,
   "id": "766b5e17-2abe-41c6-b181-88f38bac0688",
   "metadata": {},
   "outputs": [
    {
     "data": {
      "text/plain": [
       "['smileModel_auto_balanced.joblib']"
      ]
     },
     "execution_count": 51,
     "metadata": {},
     "output_type": "execute_result"
    }
   ],
   "source": [
    "clf = make_pipeline(StandardScaler(), SVC(gamma='auto', kernel='rbf', C=1))\n",
    "clf.fit(X, Y)\n",
    "dump(clf, 'smileModel_auto_balanced.joblib')"
   ]
  },
  {
   "cell_type": "code",
   "execution_count": 52,
   "id": "a7f2b8c9-9ff9-45af-83bc-82c7b9ef9964",
   "metadata": {},
   "outputs": [
    {
     "data": {
      "text/plain": [
       "['smileModel_sigestmedian_balanced.joblib']"
      ]
     },
     "execution_count": 52,
     "metadata": {},
     "output_type": "execute_result"
    }
   ],
   "source": [
    "clf = make_pipeline(StandardScaler(), SVC(gamma=0.0007995910, kernel='rbf', C=1))\n",
    "clf.fit(X, Y)\n",
    "dump(clf, 'smileModel_sigestmedian_balanced.joblib')"
   ]
  },
  {
   "cell_type": "code",
   "execution_count": 48,
   "id": "be20e4e7-95ee-4cdb-b624-f5ad24bec266",
   "metadata": {},
   "outputs": [
    {
     "data": {
      "text/plain": [
       "Pipeline(steps=[('standardscaler', StandardScaler()),\n",
       "                ('svc', SVC(C=1, gamma=0.0005942427))])"
      ]
     },
     "execution_count": 48,
     "metadata": {},
     "output_type": "execute_result"
    }
   ],
   "source": [
    "clf = make_pipeline(StandardScaler(), SVC(gamma=0.0005942427, kernel='rbf', C=1))\n",
    "clf.fit(X, Y)"
   ]
  },
  {
   "cell_type": "code",
   "execution_count": 50,
   "id": "ea6f8ac4-d52e-4e6e-af17-1a47c9ef362c",
   "metadata": {},
   "outputs": [
    {
     "data": {
      "text/plain": [
       "['smileModel_sigest90_balanced.joblib']"
      ]
     },
     "execution_count": 50,
     "metadata": {},
     "output_type": "execute_result"
    }
   ],
   "source": [
    "dump(clf, 'smileModel_sigest90_balanced.joblib')"
   ]
  },
  {
   "cell_type": "code",
   "execution_count": 53,
   "id": "554ab435-b275-4137-b1c5-10aea92f58f9",
   "metadata": {},
   "outputs": [
    {
     "data": {
      "text/plain": [
       "['smileModel_sigestmean_balanced.joblib']"
      ]
     },
     "execution_count": 53,
     "metadata": {},
     "output_type": "execute_result"
    }
   ],
   "source": [
    "clf = make_pipeline(StandardScaler(), SVC(gamma=((0.0005809022+0.0010261919)/2), kernel='rbf', C=1))\n",
    "clf.fit(X, Y)\n",
    "dump(clf, 'smileModel_sigestmean_balanced.joblib')"
   ]
  },
  {
   "cell_type": "code",
   "execution_count": 145,
   "id": "9dd4dc35-4b8a-4c78-abc2-72674746cc2f",
   "metadata": {},
   "outputs": [],
   "source": [
    "img_smile = cv2.imread('images/facesample_study.png')\n",
    "img_smile = cv2.cvtColor(img_smile, cv2.COLOR_BGR2GRAY)\n",
    "# img_smile = imutils.resize(img_smile, width=64, height=64)\n",
    "img_smile = cv2.resize(img_smile, (64,64))\n",
    "h, w = img_smile.shape[:2]\n",
    "# gray = cv2.cvtColor(img_smile, cv2.COLOR_BGR2GRAY)\n",
    "fd , vis_smile = feature.hog(img_smile, orientations=8, pixels_per_cell=(8, 8),\n",
    "            cells_per_block=(1, 1), visualize=True, feature_vector=True)\n",
    "rect = dlib.rectangle(left=0, top=0, right=w, bottom=h)\n",
    "shape = predictor(img_smile, rect)\n",
    "shape_smile = face_utils.shape_to_np(shape)"
   ]
  },
  {
   "cell_type": "code",
   "execution_count": 146,
   "id": "8f128abe-25b0-4770-b7b5-8f62540d94c9",
   "metadata": {},
   "outputs": [
    {
     "data": {
      "text/plain": [
       "<matplotlib.image.AxesImage at 0x7fb1a75475e0>"
      ]
     },
     "execution_count": 146,
     "metadata": {},
     "output_type": "execute_result"
    },
    {
     "data": {
      "image/png": "[encoded data removed]",
      "text/plain": [
       "<Figure size 432x288 with 1 Axes>"
      ]
     },
     "metadata": {
      "needs_background": "light"
     },
     "output_type": "display_data"
    }
   ],
   "source": [
    "plt.imshow(vis_smile)"
   ]
  },
  {
   "cell_type": "code",
   "execution_count": 159,
   "id": "d4662862-f6a6-4060-ad05-d3616581b756",
   "metadata": {},
   "outputs": [
    {
     "data": {
      "text/plain": [
       "<matplotlib.image.AxesImage at 0x7fb180102490>"
      ]
     },
     "execution_count": 159,
     "metadata": {},
     "output_type": "execute_result"
    },
    {
     "data": {
      "image/png": "[encoded data removed]",
      "text/plain": [
       "<Figure size 432x288 with 1 Axes>"
      ]
     },
     "metadata": {
      "needs_background": "light"
     },
     "output_type": "display_data"
    }
   ],
   "source": [
    "img_smile = cv2.cvtColor(img_smile, cv2.COLOR_BGR2RGB)\n",
    "for (sX, sY) in shape_smile:\n",
    "    cv2.circle(img_smile, (sX, sY), 1, (0, 0, 255), -1)\n",
    "blurred_img = cv2.GaussianBlur(img_smile, (49, 49), 0)\n",
    "\n",
    "mask = np.zeros((64, 64, 3), dtype=np.uint8)\n",
    "mask = cv2.rectangle(mask, (0, 32), (64,64), (255,255,255), -1)\n",
    "\n",
    "out = np.where(mask==np.array([255, 255, 255]), img_smile, blurred_img)\n",
    "\n",
    "plt.imshow(out)"
   ]
  },
  {
   "cell_type": "code",
   "execution_count": 161,
   "id": "68d18bfa-a738-4337-b11f-3f8900333998",
   "metadata": {},
   "outputs": [
    {
     "data": {
      "image/png": "[encoded data removed]",
      "text/plain": [
       "<Figure size 144x144 with 4 Axes>"
      ]
     },
     "metadata": {
      "needs_background": "light"
     },
     "output_type": "display_data"
    }
   ],
   "source": [
    "fig = plt.figure(figsize=(2., 2.))\n",
    "grid = ImageGrid(fig, 111,  # similar to subplot(111)\n",
    "                 nrows_ncols=(1, 2),  # creates 2x2 grid of axes\n",
    "                 axes_pad=0.1,  # pad between axes in inch.\n",
    "                 )\n",
    "\n",
    "for ax, im in zip(grid, [out, vis_smile]):\n",
    "    # Iterating over the grid returns the Axes.\n",
    "    # if (im == img_smile).all(): ax.imshow(im)\n",
    "    ax.imshow(im)\n",
    "    ax.set_axis_off()\n",
    "plt.axis('off')\n",
    "# plt.show()\n",
    "plt.savefig(\"test.png\", bbox_inches='tight')"
   ]
  },
  {
   "cell_type": "code",
   "execution_count": 69,
   "id": "0314b578-0050-4f70-889d-54588abb7e20",
   "metadata": {},
   "outputs": [
    {
     "data": {
      "text/plain": [
       "(85, 64, 3)"
      ]
     },
     "execution_count": 69,
     "metadata": {},
     "output_type": "execute_result"
    }
   ],
   "source": [
    "img_smile.shape"
   ]
  }
 ],
 "metadata": {
  "kernelspec": {
   "display_name": "Python 3 (ipykernel)",
   "language": "python",
   "name": "python3"
  },
  "language_info": {
   "codemirror_mode": {
    "name": "ipython",
    "version": 3
   },
   "file_extension": ".py",
   "mimetype": "text/x-python",
   "name": "python",
   "nbconvert_exporter": "python",
   "pygments_lexer": "ipython3",
   "version": "3.9.5"
  }
 },
 "nbformat": 4,
 "nbformat_minor": 5
}
