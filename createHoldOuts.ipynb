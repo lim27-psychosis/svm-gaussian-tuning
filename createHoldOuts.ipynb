{
 "cells": [
  {
   "cell_type": "code",
   "execution_count": 1,
   "id": "1fe3cfdc-bd41-4be1-af79-ad5582bfb003",
   "metadata": {},
   "outputs": [],
   "source": [
    "from pickle import dump, load\n",
    "from tqdm.notebook import tqdm\n",
    "from skimage import feature\n",
    "import cv2, os, dlib, imutils\n",
    "from imutils import face_utils\n",
    "import numpy as np\n",
    "from sklearn.model_selection import train_test_split"
   ]
  },
  {
   "cell_type": "code",
   "execution_count": 4,
   "id": "2b7b99bf-431f-49a1-b18c-dce09e6eb5c5",
   "metadata": {},
   "outputs": [
    {
     "name": "stdout",
     "output_type": "stream",
     "text": [
      "Dataset already downloaded\n"
     ]
    }
   ],
   "source": [
    "if not os.path.isdir('SMILEsmileD'):\n",
    "    !git clone https://github.com/hromi/SMILEsmileD.git\n",
    "else:\n",
    "    print('Dataset already downloaded')"
   ]
  },
  {
   "cell_type": "code",
   "execution_count": 14,
   "id": "28d0f59f-db6a-4f3a-aa18-2a0ad577395f",
   "metadata": {},
   "outputs": [
    {
     "name": "stdout",
     "output_type": "stream",
     "text": [
      "Dlib's shape predictor already downloaded\n"
     ]
    }
   ],
   "source": [
    "if not os.path.isfile('shape_predictor_68_face_landmarks.dat'):\n",
    "    !wget https://github.com/davisking/dlib-models/raw/master/shape_predictor_68_face_landmarks.dat.bz2\n",
    "    !bzip2 -d shape_predictor_68_face_landmarks.dat.bz2\n",
    "else:\n",
    "    print('Dlib\\'s shape predictor already downloaded')"
   ]
  },
  {
   "cell_type": "code",
   "execution_count": 12,
   "id": "48aac894-3819-465b-a86f-6e3d22cc0352",
   "metadata": {},
   "outputs": [],
   "source": [
    "predictor = dlib.shape_predictor('shape_predictor_68_face_landmarks.dat')"
   ]
  },
  {
   "cell_type": "code",
   "execution_count": 3,
   "id": "6f3523c2-74a1-4032-a332-e49a4a363815",
   "metadata": {},
   "outputs": [
    {
     "data": {
      "application/vnd.jupyter.widget-view+json": {
       "model_id": "dbd76764f7b14a5eaf1511d34e9912e0",
       "version_major": 2,
       "version_minor": 0
      },
      "text/plain": [
       "  0%|          | 0/3690 [00:00<?, ?it/s]"
      ]
     },
     "metadata": {},
     "output_type": "display_data"
    },
    {
     "data": {
      "application/vnd.jupyter.widget-view+json": {
       "model_id": "7f0cc4ed1b63457aadd0c0bd9cd7fd04",
       "version_major": 2,
       "version_minor": 0
      },
      "text/plain": [
       "  0%|          | 0/9476 [00:00<?, ?it/s]"
      ]
     },
     "metadata": {},
     "output_type": "display_data"
    },
    {
     "name": "stdout",
     "output_type": "stream",
     "text": [
      "(13165, 648) (13165,)\n"
     ]
    }
   ],
   "source": [
    "smileDataset = 'SMILEsmileD/SMILEs/positives/positives7'\n",
    "nonSmileDataset = 'SMILEsmileD/SMILEs/negatives/negatives7'\n",
    "\n",
    "X, Y = [], []\n",
    "\n",
    "for name in tqdm(os.listdir(smileDataset)):\n",
    "    classe = 'smile'\n",
    "    imgpath = os.path.join(smileDataset, name)\n",
    "    img = cv2.imread(imgpath)\n",
    "    h, w = img.shape[:2]\n",
    "    # frame = imutils.resize(img, width=128)\n",
    "    gray = cv2.cvtColor(img, cv2.COLOR_BGR2GRAY)\n",
    "    fd , vis = feature.hog(img, orientations=8, pixels_per_cell=(8, 8),\n",
    "                cells_per_block=(1, 1), visualize=True, feature_vector=True)\n",
    "    rect = dlib.rectangle(left=0, top=0, right=w, bottom=h)\n",
    "    shape = predictor(gray, rect)\n",
    "    shape = face_utils.shape_to_np(shape)\n",
    "    # print(shape.shape, fd.shape)\n",
    "    # break\n",
    "    X.append(np.concatenate([fd, shape.flatten()]))\n",
    "    Y.append(classe)\n",
    "for name in tqdm(os.listdir(nonSmileDataset)):\n",
    "    if 'jpg' != name[-3:]: continue\n",
    "    classe = 'notsmile'\n",
    "    imgpath = os.path.join(nonSmileDataset, name)\n",
    "    img = cv2.imread(imgpath)\n",
    "    h, w = img.shape[:2]\n",
    "    # frame = imutils.resize(img, width=128)\n",
    "    gray = cv2.cvtColor(img, cv2.COLOR_BGR2GRAY)\n",
    "    fd , vis = feature.hog(img, orientations=8, pixels_per_cell=(8, 8),\n",
    "                cells_per_block=(1, 1), visualize=True, feature_vector=True)\n",
    "    rect = dlib.rectangle(left=0, top=0, right=w, bottom=h)\n",
    "    shape = predictor(gray, rect)\n",
    "    shape = face_utils.shape_to_np(shape)\n",
    "    # print(shape.shape, fd.shape)\n",
    "    # break\n",
    "    X.append(np.concatenate([fd, shape.flatten()]))\n",
    "    Y.append(classe)\n",
    "X = np.array(X)\n",
    "Y = np.array(Y)\n",
    "print(X.shape, Y.shape)"
   ]
  },
  {
   "cell_type": "code",
   "execution_count": 15,
   "id": "536265c5-58b8-4654-92e0-38386f307fb5",
   "metadata": {},
   "outputs": [
    {
     "data": {
      "application/vnd.jupyter.widget-view+json": {
       "model_id": "29a91df82fb94e5a8a41fbad19b38ea4",
       "version_major": 2,
       "version_minor": 0
      },
      "text/plain": [
       "  0%|          | 0/100 [00:00<?, ?it/s]"
      ]
     },
     "metadata": {},
     "output_type": "display_data"
    }
   ],
   "source": [
    "for i in tqdm(range(1,101)):\n",
    "    X_train, X_test, y_train, y_test = train_test_split(X, Y, test_size=0.3, random_state=i)\n",
    "    feat_path_train = f'SMILEsmilesD_features/train_features_HOGShape_{i}.pkl'\n",
    "    labels_path_train = f'SMILEsmilesD_features/train_labels_HOGShape_{i}.pkl'\n",
    "    feat_path_test = f'SMILEsmilesD_features/test_features_HOGShape_{i}.pkl'\n",
    "    labels_path_test = f'SMILEsmilesD_features/test_labels_HOGShape_{i}.pkl'\n",
    "    dump(X_train, open(feat_path_train, 'wb'))\n",
    "    dump(y_train, open(labels_path_train, 'wb'))\n",
    "    dump(X_test, open(feat_path_test, 'wb'))\n",
    "    dump(y_test, open(labels_path_test, 'wb'))"
   ]
  },
  {
   "cell_type": "code",
   "execution_count": 4,
   "id": "0d2cd5f7-ce72-4152-9c31-ef9092524c56",
   "metadata": {},
   "outputs": [
    {
     "data": {
      "text/plain": [
       "(array(['notsmile', 'smile'], dtype='<U8'), array([9475, 3690]))"
      ]
     },
     "execution_count": 4,
     "metadata": {},
     "output_type": "execute_result"
    }
   ],
   "source": [
    "np.unique(Y, return_counts=True)"
   ]
  },
  {
   "cell_type": "markdown",
   "id": "497e3c86-be46-4976-bade-535cc482cc24",
   "metadata": {},
   "source": [
    "### Checking that seed works"
   ]
  },
  {
   "cell_type": "code",
   "execution_count": 16,
   "id": "0e6c7f21-757e-48af-aeb0-aabeb08093ca",
   "metadata": {},
   "outputs": [],
   "source": [
    "X_train2, X_test2, y_train2, y_test2 = train_test_split(X, Y, test_size=0.3, random_state=100)"
   ]
  },
  {
   "cell_type": "code",
   "execution_count": 17,
   "id": "0a969311-7974-4dfb-a367-06b1ed257008",
   "metadata": {},
   "outputs": [
    {
     "data": {
      "text/plain": [
       "True"
      ]
     },
     "execution_count": 17,
     "metadata": {},
     "output_type": "execute_result"
    }
   ],
   "source": [
    "(X_train == X_train2).all()"
   ]
  },
  {
   "cell_type": "code",
   "execution_count": 18,
   "id": "1b74a5f4-6f0c-4ef7-a07a-0fc76df2102e",
   "metadata": {},
   "outputs": [
    {
     "data": {
      "text/plain": [
       "(9215, 648)"
      ]
     },
     "execution_count": 18,
     "metadata": {},
     "output_type": "execute_result"
    }
   ],
   "source": [
    "X_train.shape"
   ]
  },
  {
   "cell_type": "code",
   "execution_count": 6,
   "id": "3b92227c-da35-4ed4-884e-3f7f0842947a",
   "metadata": {},
   "outputs": [
    {
     "data": {
      "text/plain": [
       "(13165, 648)"
      ]
     },
     "execution_count": 6,
     "metadata": {},
     "output_type": "execute_result"
    }
   ],
   "source": [
    "X.shape"
   ]
  },
  {
   "cell_type": "markdown",
   "id": "f945440b-f936-4e8d-a480-4b73f4290fb1",
   "metadata": {},
   "source": [
    "### Saving all the features to calculate sigest for the whole dataset"
   ]
  },
  {
   "cell_type": "code",
   "execution_count": 7,
   "id": "2e2b1451-c8bb-4993-9032-ada3c51b31cb",
   "metadata": {},
   "outputs": [],
   "source": [
    "dump(X, open('total_feats_imbalancedbalanced.pkl', 'wb'))"
   ]
  },
  {
   "cell_type": "code",
   "execution_count": 15,
   "id": "c98a0f91-f6f3-41a2-a453-5f438151cf7b",
   "metadata": {},
   "outputs": [],
   "source": [
    "import pandas as pd\n",
    "feats = pd.DataFrame(X)\n",
    "labels = pd.DataFrame(Y)"
   ]
  },
  {
   "cell_type": "code",
   "execution_count": 16,
   "id": "cbc7f3c2-b6e1-4989-8b03-0cab8a6803ce",
   "metadata": {},
   "outputs": [
    {
     "data": {
      "text/html": [
       "<div>\n",
       "<style scoped>\n",
       "    .dataframe tbody tr th:only-of-type {\n",
       "        vertical-align: middle;\n",
       "    }\n",
       "\n",
       "    .dataframe tbody tr th {\n",
       "        vertical-align: top;\n",
       "    }\n",
       "\n",
       "    .dataframe thead th {\n",
       "        text-align: right;\n",
       "    }\n",
       "</style>\n",
       "<table border=\"1\" class=\"dataframe\">\n",
       "  <thead>\n",
       "    <tr style=\"text-align: right;\">\n",
       "      <th></th>\n",
       "      <th>0</th>\n",
       "      <th>1</th>\n",
       "      <th>2</th>\n",
       "      <th>3</th>\n",
       "      <th>4</th>\n",
       "      <th>5</th>\n",
       "      <th>6</th>\n",
       "      <th>7</th>\n",
       "      <th>8</th>\n",
       "      <th>9</th>\n",
       "      <th>...</th>\n",
       "      <th>639</th>\n",
       "      <th>640</th>\n",
       "      <th>641</th>\n",
       "      <th>642</th>\n",
       "      <th>643</th>\n",
       "      <th>644</th>\n",
       "      <th>645</th>\n",
       "      <th>646</th>\n",
       "      <th>647</th>\n",
       "      <th>648</th>\n",
       "    </tr>\n",
       "  </thead>\n",
       "  <tbody>\n",
       "    <tr>\n",
       "      <th>0</th>\n",
       "      <td>0.452467</td>\n",
       "      <td>0.452467</td>\n",
       "      <td>0.097848</td>\n",
       "      <td>0.028372</td>\n",
       "      <td>0.341674</td>\n",
       "      <td>0.299845</td>\n",
       "      <td>0.410845</td>\n",
       "      <td>0.452467</td>\n",
       "      <td>0.400064</td>\n",
       "      <td>0.400064</td>\n",
       "      <td>...</td>\n",
       "      <td>42.0</td>\n",
       "      <td>44.0</td>\n",
       "      <td>45.0</td>\n",
       "      <td>36.0</td>\n",
       "      <td>48.0</td>\n",
       "      <td>31.0</td>\n",
       "      <td>48.0</td>\n",
       "      <td>27.0</td>\n",
       "      <td>48.0</td>\n",
       "      <td>smile</td>\n",
       "    </tr>\n",
       "    <tr>\n",
       "      <th>1</th>\n",
       "      <td>0.491241</td>\n",
       "      <td>0.491241</td>\n",
       "      <td>0.239019</td>\n",
       "      <td>0.491241</td>\n",
       "      <td>0.356827</td>\n",
       "      <td>0.000000</td>\n",
       "      <td>0.131813</td>\n",
       "      <td>0.272428</td>\n",
       "      <td>0.206922</td>\n",
       "      <td>0.054842</td>\n",
       "      <td>...</td>\n",
       "      <td>50.0</td>\n",
       "      <td>48.0</td>\n",
       "      <td>48.0</td>\n",
       "      <td>37.0</td>\n",
       "      <td>53.0</td>\n",
       "      <td>32.0</td>\n",
       "      <td>53.0</td>\n",
       "      <td>28.0</td>\n",
       "      <td>53.0</td>\n",
       "      <td>smile</td>\n",
       "    </tr>\n",
       "    <tr>\n",
       "      <th>2</th>\n",
       "      <td>0.541585</td>\n",
       "      <td>0.541585</td>\n",
       "      <td>0.284915</td>\n",
       "      <td>0.047125</td>\n",
       "      <td>0.541585</td>\n",
       "      <td>0.174478</td>\n",
       "      <td>0.063225</td>\n",
       "      <td>0.047125</td>\n",
       "      <td>0.435262</td>\n",
       "      <td>0.435262</td>\n",
       "      <td>...</td>\n",
       "      <td>45.0</td>\n",
       "      <td>44.0</td>\n",
       "      <td>45.0</td>\n",
       "      <td>36.0</td>\n",
       "      <td>46.0</td>\n",
       "      <td>32.0</td>\n",
       "      <td>47.0</td>\n",
       "      <td>29.0</td>\n",
       "      <td>46.0</td>\n",
       "      <td>smile</td>\n",
       "    </tr>\n",
       "    <tr>\n",
       "      <th>3</th>\n",
       "      <td>0.470415</td>\n",
       "      <td>0.470415</td>\n",
       "      <td>0.470415</td>\n",
       "      <td>0.470415</td>\n",
       "      <td>0.262108</td>\n",
       "      <td>0.000000</td>\n",
       "      <td>0.009733</td>\n",
       "      <td>0.214576</td>\n",
       "      <td>0.084730</td>\n",
       "      <td>0.020300</td>\n",
       "      <td>...</td>\n",
       "      <td>48.0</td>\n",
       "      <td>46.0</td>\n",
       "      <td>51.0</td>\n",
       "      <td>36.0</td>\n",
       "      <td>49.0</td>\n",
       "      <td>31.0</td>\n",
       "      <td>49.0</td>\n",
       "      <td>26.0</td>\n",
       "      <td>48.0</td>\n",
       "      <td>smile</td>\n",
       "    </tr>\n",
       "    <tr>\n",
       "      <th>4</th>\n",
       "      <td>0.443658</td>\n",
       "      <td>0.022131</td>\n",
       "      <td>0.041990</td>\n",
       "      <td>0.232020</td>\n",
       "      <td>0.443658</td>\n",
       "      <td>0.443658</td>\n",
       "      <td>0.443658</td>\n",
       "      <td>0.395706</td>\n",
       "      <td>0.177368</td>\n",
       "      <td>0.000000</td>\n",
       "      <td>...</td>\n",
       "      <td>51.0</td>\n",
       "      <td>41.0</td>\n",
       "      <td>49.0</td>\n",
       "      <td>33.0</td>\n",
       "      <td>50.0</td>\n",
       "      <td>30.0</td>\n",
       "      <td>51.0</td>\n",
       "      <td>26.0</td>\n",
       "      <td>51.0</td>\n",
       "      <td>smile</td>\n",
       "    </tr>\n",
       "    <tr>\n",
       "      <th>...</th>\n",
       "      <td>...</td>\n",
       "      <td>...</td>\n",
       "      <td>...</td>\n",
       "      <td>...</td>\n",
       "      <td>...</td>\n",
       "      <td>...</td>\n",
       "      <td>...</td>\n",
       "      <td>...</td>\n",
       "      <td>...</td>\n",
       "      <td>...</td>\n",
       "      <td>...</td>\n",
       "      <td>...</td>\n",
       "      <td>...</td>\n",
       "      <td>...</td>\n",
       "      <td>...</td>\n",
       "      <td>...</td>\n",
       "      <td>...</td>\n",
       "      <td>...</td>\n",
       "      <td>...</td>\n",
       "      <td>...</td>\n",
       "      <td>...</td>\n",
       "    </tr>\n",
       "    <tr>\n",
       "      <th>13160</th>\n",
       "      <td>0.520837</td>\n",
       "      <td>0.384667</td>\n",
       "      <td>0.049799</td>\n",
       "      <td>0.043468</td>\n",
       "      <td>0.400666</td>\n",
       "      <td>0.080444</td>\n",
       "      <td>0.371638</td>\n",
       "      <td>0.520837</td>\n",
       "      <td>0.403646</td>\n",
       "      <td>0.403646</td>\n",
       "      <td>...</td>\n",
       "      <td>48.0</td>\n",
       "      <td>44.0</td>\n",
       "      <td>47.0</td>\n",
       "      <td>38.0</td>\n",
       "      <td>47.0</td>\n",
       "      <td>34.0</td>\n",
       "      <td>48.0</td>\n",
       "      <td>30.0</td>\n",
       "      <td>48.0</td>\n",
       "      <td>notsmile</td>\n",
       "    </tr>\n",
       "    <tr>\n",
       "      <th>13161</th>\n",
       "      <td>0.572276</td>\n",
       "      <td>0.572276</td>\n",
       "      <td>0.000000</td>\n",
       "      <td>0.048269</td>\n",
       "      <td>0.090448</td>\n",
       "      <td>0.037249</td>\n",
       "      <td>0.074838</td>\n",
       "      <td>0.572276</td>\n",
       "      <td>0.484186</td>\n",
       "      <td>0.456039</td>\n",
       "      <td>...</td>\n",
       "      <td>47.0</td>\n",
       "      <td>39.0</td>\n",
       "      <td>49.0</td>\n",
       "      <td>30.0</td>\n",
       "      <td>51.0</td>\n",
       "      <td>26.0</td>\n",
       "      <td>50.0</td>\n",
       "      <td>22.0</td>\n",
       "      <td>50.0</td>\n",
       "      <td>notsmile</td>\n",
       "    </tr>\n",
       "    <tr>\n",
       "      <th>13162</th>\n",
       "      <td>0.451399</td>\n",
       "      <td>0.451399</td>\n",
       "      <td>0.451399</td>\n",
       "      <td>0.000000</td>\n",
       "      <td>0.399231</td>\n",
       "      <td>0.062284</td>\n",
       "      <td>0.147279</td>\n",
       "      <td>0.451399</td>\n",
       "      <td>0.108145</td>\n",
       "      <td>0.489184</td>\n",
       "      <td>...</td>\n",
       "      <td>50.0</td>\n",
       "      <td>41.0</td>\n",
       "      <td>52.0</td>\n",
       "      <td>35.0</td>\n",
       "      <td>53.0</td>\n",
       "      <td>32.0</td>\n",
       "      <td>53.0</td>\n",
       "      <td>30.0</td>\n",
       "      <td>53.0</td>\n",
       "      <td>notsmile</td>\n",
       "    </tr>\n",
       "    <tr>\n",
       "      <th>13163</th>\n",
       "      <td>0.547543</td>\n",
       "      <td>0.547543</td>\n",
       "      <td>0.542156</td>\n",
       "      <td>0.189768</td>\n",
       "      <td>0.242523</td>\n",
       "      <td>0.069525</td>\n",
       "      <td>0.057079</td>\n",
       "      <td>0.059495</td>\n",
       "      <td>0.473528</td>\n",
       "      <td>0.210503</td>\n",
       "      <td>...</td>\n",
       "      <td>52.0</td>\n",
       "      <td>46.0</td>\n",
       "      <td>53.0</td>\n",
       "      <td>36.0</td>\n",
       "      <td>53.0</td>\n",
       "      <td>32.0</td>\n",
       "      <td>54.0</td>\n",
       "      <td>28.0</td>\n",
       "      <td>54.0</td>\n",
       "      <td>notsmile</td>\n",
       "    </tr>\n",
       "    <tr>\n",
       "      <th>13164</th>\n",
       "      <td>0.445267</td>\n",
       "      <td>0.445267</td>\n",
       "      <td>0.445267</td>\n",
       "      <td>0.150292</td>\n",
       "      <td>0.445267</td>\n",
       "      <td>0.110056</td>\n",
       "      <td>0.147903</td>\n",
       "      <td>0.387782</td>\n",
       "      <td>0.480887</td>\n",
       "      <td>0.218172</td>\n",
       "      <td>...</td>\n",
       "      <td>47.0</td>\n",
       "      <td>40.0</td>\n",
       "      <td>49.0</td>\n",
       "      <td>35.0</td>\n",
       "      <td>50.0</td>\n",
       "      <td>32.0</td>\n",
       "      <td>50.0</td>\n",
       "      <td>29.0</td>\n",
       "      <td>50.0</td>\n",
       "      <td>notsmile</td>\n",
       "    </tr>\n",
       "  </tbody>\n",
       "</table>\n",
       "<p>13165 rows × 649 columns</p>\n",
       "</div>"
      ],
      "text/plain": [
       "            0         1         2         3         4         5         6    \\\n",
       "0      0.452467  0.452467  0.097848  0.028372  0.341674  0.299845  0.410845   \n",
       "1      0.491241  0.491241  0.239019  0.491241  0.356827  0.000000  0.131813   \n",
       "2      0.541585  0.541585  0.284915  0.047125  0.541585  0.174478  0.063225   \n",
       "3      0.470415  0.470415  0.470415  0.470415  0.262108  0.000000  0.009733   \n",
       "4      0.443658  0.022131  0.041990  0.232020  0.443658  0.443658  0.443658   \n",
       "...         ...       ...       ...       ...       ...       ...       ...   \n",
       "13160  0.520837  0.384667  0.049799  0.043468  0.400666  0.080444  0.371638   \n",
       "13161  0.572276  0.572276  0.000000  0.048269  0.090448  0.037249  0.074838   \n",
       "13162  0.451399  0.451399  0.451399  0.000000  0.399231  0.062284  0.147279   \n",
       "13163  0.547543  0.547543  0.542156  0.189768  0.242523  0.069525  0.057079   \n",
       "13164  0.445267  0.445267  0.445267  0.150292  0.445267  0.110056  0.147903   \n",
       "\n",
       "            7         8         9    ...   639   640   641   642   643   644  \\\n",
       "0      0.452467  0.400064  0.400064  ...  42.0  44.0  45.0  36.0  48.0  31.0   \n",
       "1      0.272428  0.206922  0.054842  ...  50.0  48.0  48.0  37.0  53.0  32.0   \n",
       "2      0.047125  0.435262  0.435262  ...  45.0  44.0  45.0  36.0  46.0  32.0   \n",
       "3      0.214576  0.084730  0.020300  ...  48.0  46.0  51.0  36.0  49.0  31.0   \n",
       "4      0.395706  0.177368  0.000000  ...  51.0  41.0  49.0  33.0  50.0  30.0   \n",
       "...         ...       ...       ...  ...   ...   ...   ...   ...   ...   ...   \n",
       "13160  0.520837  0.403646  0.403646  ...  48.0  44.0  47.0  38.0  47.0  34.0   \n",
       "13161  0.572276  0.484186  0.456039  ...  47.0  39.0  49.0  30.0  51.0  26.0   \n",
       "13162  0.451399  0.108145  0.489184  ...  50.0  41.0  52.0  35.0  53.0  32.0   \n",
       "13163  0.059495  0.473528  0.210503  ...  52.0  46.0  53.0  36.0  53.0  32.0   \n",
       "13164  0.387782  0.480887  0.218172  ...  47.0  40.0  49.0  35.0  50.0  32.0   \n",
       "\n",
       "        645   646   647       648  \n",
       "0      48.0  27.0  48.0     smile  \n",
       "1      53.0  28.0  53.0     smile  \n",
       "2      47.0  29.0  46.0     smile  \n",
       "3      49.0  26.0  48.0     smile  \n",
       "4      51.0  26.0  51.0     smile  \n",
       "...     ...   ...   ...       ...  \n",
       "13160  48.0  30.0  48.0  notsmile  \n",
       "13161  50.0  22.0  50.0  notsmile  \n",
       "13162  53.0  30.0  53.0  notsmile  \n",
       "13163  54.0  28.0  54.0  notsmile  \n",
       "13164  50.0  29.0  50.0  notsmile  \n",
       "\n",
       "[13165 rows x 649 columns]"
      ]
     },
     "execution_count": 16,
     "metadata": {},
     "output_type": "execute_result"
    }
   ],
   "source": [
    "featslabels = pd.concat([feats, labels], axis=1, ignore_index=True)\n",
    "featslabels"
   ]
  },
  {
   "cell_type": "markdown",
   "id": "8bfee484-000d-4f05-a546-d65591cf1f02",
   "metadata": {},
   "source": [
    "### Saving in a csv file"
   ]
  },
  {
   "cell_type": "code",
   "execution_count": 17,
   "id": "c47aa337-5662-4964-b861-3ca277cdca0a",
   "metadata": {},
   "outputs": [],
   "source": [
    "featslabels.to_csv('features_labels_imbalanced.csv', index=False)"
   ]
  },
  {
   "cell_type": "markdown",
   "id": "65bda7a5-a2b6-4529-ac78-4688847297c1",
   "metadata": {},
   "source": [
    "### Training models with each method with all the images from the dataset"
   ]
  },
  {
   "cell_type": "code",
   "execution_count": 8,
   "id": "73289abd-0073-447a-a6ab-cbf6462a6222",
   "metadata": {},
   "outputs": [],
   "source": [
    "from sklearn.preprocessing import StandardScaler\n",
    "from sklearn.pipeline import make_pipeline\n",
    "from sklearn.svm import SVC\n",
    "from joblib import dump"
   ]
  },
  {
   "cell_type": "code",
   "execution_count": 10,
   "id": "fef99637-e340-49cc-975b-c4ff4689b8c1",
   "metadata": {},
   "outputs": [
    {
     "data": {
      "text/plain": [
       "Pipeline(steps=[('standardscaler', StandardScaler()),\n",
       "                ('svc', SVC(C=1, gamma='auto'))])"
      ]
     },
     "execution_count": 10,
     "metadata": {},
     "output_type": "execute_result"
    }
   ],
   "source": [
    "clf = make_pipeline(StandardScaler(), SVC(gamma='auto', kernel='rbf', C=1))\n",
    "clf.fit(X, Y)"
   ]
  },
  {
   "cell_type": "code",
   "execution_count": 11,
   "id": "dd07e4b0-a680-4a11-b180-2c20aa2b296d",
   "metadata": {},
   "outputs": [
    {
     "data": {
      "text/plain": [
       "['smileModel_auto_imbalanced.joblib']"
      ]
     },
     "execution_count": 11,
     "metadata": {},
     "output_type": "execute_result"
    }
   ],
   "source": [
    "dump(clf, 'smileModel_auto_imbalanced.joblib')"
   ]
  },
  {
   "cell_type": "raw",
   "id": "63d5af25-77c0-47a3-b35b-973c0c6f2f5d",
   "metadata": {},
   "source": [
    "Sigest calculated values\n",
    "    90%          50%          10% \n",
    "0.0005884004 0.0007965187 0.0010461882 "
   ]
  },
  {
   "cell_type": "code",
   "execution_count": 12,
   "id": "d8f1c493-d932-4e93-aa64-95a61a41cce1",
   "metadata": {},
   "outputs": [
    {
     "data": {
      "text/plain": [
       "['smileModel_sigestmedian_imbalanced.joblib']"
      ]
     },
     "execution_count": 12,
     "metadata": {},
     "output_type": "execute_result"
    }
   ],
   "source": [
    "clf = make_pipeline(StandardScaler(), SVC(gamma=0.0007965187, kernel='rbf', C=1))\n",
    "clf.fit(X, Y)\n",
    "dump(clf, 'smileModel_sigestmedian_imbalanced.joblib')"
   ]
  },
  {
   "cell_type": "code",
   "execution_count": 13,
   "id": "9097fd8e-b53f-4d76-81f3-68cbb561c559",
   "metadata": {},
   "outputs": [
    {
     "data": {
      "text/plain": [
       "['smileModel_siges90quantile_imbalanced.joblib']"
      ]
     },
     "execution_count": 13,
     "metadata": {},
     "output_type": "execute_result"
    }
   ],
   "source": [
    "clf = make_pipeline(StandardScaler(), SVC(gamma=(0.0005884004), kernel='rbf', C=1))\n",
    "clf.fit(X, Y)\n",
    "dump(clf, 'smileModel_siges90quantile_imbalanced.joblib')"
   ]
  },
  {
   "cell_type": "code",
   "execution_count": 14,
   "id": "3626d922-902a-47d4-80ae-db847dd6a9cb",
   "metadata": {},
   "outputs": [
    {
     "data": {
      "text/plain": [
       "['smileModel_sigesmean_imbalanced.joblib']"
      ]
     },
     "execution_count": 14,
     "metadata": {},
     "output_type": "execute_result"
    }
   ],
   "source": [
    "clf = make_pipeline(StandardScaler(), SVC(gamma=((0.0010461882+0.0005884004)/2), kernel='rbf', C=1))\n",
    "clf.fit(X, Y)\n",
    "dump(clf, 'smileModel_sigesmean_imbalanced.joblib')"
   ]
  }
 ],
 "metadata": {
  "kernelspec": {
   "display_name": "Python 3 (ipykernel)",
   "language": "python",
   "name": "python3"
  },
  "language_info": {
   "codemirror_mode": {
    "name": "ipython",
    "version": 3
   },
   "file_extension": ".py",
   "mimetype": "text/x-python",
   "name": "python",
   "nbconvert_exporter": "python",
   "pygments_lexer": "ipython3",
   "version": "3.9.5"
  }
 },
 "nbformat": 4,
 "nbformat_minor": 5
}
