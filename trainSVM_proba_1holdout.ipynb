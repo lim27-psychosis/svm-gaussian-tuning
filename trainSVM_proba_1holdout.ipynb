{
 "cells": [
  {
   "cell_type": "code",
   "execution_count": 88,
   "id": "997699bd-b885-47d1-8eef-ad5bebde6cdf",
   "metadata": {},
   "outputs": [],
   "source": [
    "from pickle import load\n",
    "import numpy as np\n",
    "from sklearn.svm import SVC\n",
    "from sklearn.metrics import matthews_corrcoef, brier_score_loss\n",
    "from sklearn.utils.class_weight import compute_class_weight\n",
    "from sklearn.metrics import matthews_corrcoef\n",
    "from sklearn.metrics import classification_report\n",
    "from sklearn.preprocessing import StandardScaler\n",
    "from sklearn.pipeline import make_pipeline\n",
    "from tqdm.notebook import tqdm\n",
    "import pandas as pd\n",
    "from random import choice\n",
    "import matplotlib.pyplot as plt\n",
    "import matplotlib.patches as mpatches"
   ]
  },
  {
   "cell_type": "code",
   "execution_count": 107,
   "id": "0c92e1dc-b0c2-4432-9c80-366b3b0d01d8",
   "metadata": {},
   "outputs": [],
   "source": [
    "bries = {}\n",
    "probs = {}\n",
    "outliers = {}\n",
    "\n",
    "i = choice(list(range(1,101)))\n",
    "final = pd.DataFrame()"
   ]
  },
  {
   "cell_type": "markdown",
   "id": "3eea8531-8005-4080-954c-7a3f977e24e7",
   "metadata": {},
   "source": [
    "### Treinamento com GAMMA='AUTO'"
   ]
  },
  {
   "cell_type": "code",
   "execution_count": 108,
   "id": "3506b9fb-df35-4489-9adb-fc3488674584",
   "metadata": {},
   "outputs": [
    {
     "data": {
      "image/png": "[encoded data removed]",
      "text/plain": [
       "<Figure size 432x288 with 1 Axes>"
      ]
     },
     "metadata": {
      "needs_background": "light"
     },
     "output_type": "display_data"
    }
   ],
   "source": [
    "gamma = 'gamma_auto'\n",
    "\n",
    "X_train, y_train = load(open(f'SMILEsmilesD_features/train_features_HOGShape_{i}.pkl', 'rb')), \\\n",
    "                    load(open(f'SMILEsmilesD_features/train_labels_HOGShape_{i}.pkl', 'rb'))\n",
    "X_test, y_test = load(open(f'SMILEsmilesD_features/test_features_HOGShape_{i}.pkl', 'rb')), \\\n",
    "                    load(open(f'SMILEsmilesD_features/test_labels_HOGShape_{i}.pkl', 'rb'))\n",
    "clf = make_pipeline(StandardScaler(), SVC(gamma='auto', kernel='rbf', C=1, probability=True))\n",
    "clf.fit(X_train, y_train)\n",
    "y_prob = clf.predict_proba(X_test)\n",
    "brier = brier_score_loss(y_test, y_prob[:, 1:2], pos_label='smile')\n",
    "mask = np.where(y_test == 'smile', True, False)\n",
    "y_prob = y_prob[mask]\n",
    "if gamma not in bries.keys():\n",
    "    bries[gamma] = []\n",
    "    probs[gamma] = []\n",
    "    outliers[gamma] = []\n",
    "bries[gamma].append(brier)\n",
    "probs[gamma].append(y_prob[:, :1])\n",
    "probanot = pd.DataFrame(y_prob[:, :1], columns=[gamma + '_notsmile']).fillna(value=0)\n",
    "proba = pd.DataFrame(y_prob[:, 1:2], columns=[gamma + '_smile']).fillna(value=0)\n",
    "\n",
    "#pegando outliers de sem sorriso\n",
    "q1 = np.quantile(y_prob[:, :1], 0.25)\n",
    "q3 = np.quantile(y_prob[:, :1], 0.75)\n",
    "med = np.median(y_prob[:, :1])\n",
    "iqr = q3-q1\n",
    "upper_bound = q3+(1.5*iqr)\n",
    "lower_bound = q1-(1.5*iqr)\n",
    "outliers_notsmile = y_prob[:, :1][(y_prob[:, :1] <= lower_bound) | (y_prob[:, :1] >= upper_bound)]\n",
    "\n",
    "#pegando outlier sorriso\n",
    "q1 = np.quantile(y_prob[:, 1:2], 0.25)\n",
    "q3 = np.quantile(y_prob[:, 1:2], 0.75)\n",
    "med = np.median(y_prob[:, 1:2])\n",
    "iqr = q3-q1\n",
    "upper_bound = q3+(1.5*iqr)\n",
    "lower_bound = q1-(1.5*iqr)\n",
    "outliers_smile = y_prob[:, 1:2][(y_prob[:, 1:2] <= lower_bound) | (y_prob[:, 1:2] >= upper_bound)]\n",
    "\n",
    "outliers[gamma] = {'notsmile': outliers_notsmile, 'smile': outliers_smile}\n",
    "\n",
    "proba = proba.append(probanot)\n",
    "final = final.append(probanot)\n",
    "final = final.append(proba)\n",
    "plot = proba.boxplot()"
   ]
  },
  {
   "cell_type": "code",
   "execution_count": 109,
   "id": "763d5e18-9fbe-4754-ab8c-8fc54156a6d3",
   "metadata": {},
   "outputs": [],
   "source": [
    "df = pd.read_csv('SMILEsmilesD_features/sigmas_frac0.5.csv')"
   ]
  },
  {
   "cell_type": "markdown",
   "id": "4e1092e2-8c37-4364-ba13-79f6e1ed8267",
   "metadata": {},
   "source": [
    "### Treinamento sigest Median"
   ]
  },
  {
   "cell_type": "code",
   "execution_count": 110,
   "id": "ba5a7b7b-55c0-4548-8748-d87af8f2bc2f",
   "metadata": {},
   "outputs": [
    {
     "data": {
      "image/png": "[encoded data removed]",
      "text/plain": [
       "<Figure size 432x288 with 1 Axes>"
      ]
     },
     "metadata": {
      "needs_background": "light"
     },
     "output_type": "display_data"
    }
   ],
   "source": [
    "gamma = 'sigest_median'\n",
    "\n",
    "X_train, y_train = load(open(f'SMILEsmilesD_features/train_features_HOGShape_{i}.pkl', 'rb')), \\\n",
    "                    load(open(f'SMILEsmilesD_features/train_labels_HOGShape_{i}.pkl', 'rb'))\n",
    "X_test, y_test = load(open(f'SMILEsmilesD_features/test_features_HOGShape_{i}.pkl', 'rb')), \\\n",
    "                    load(open(f'SMILEsmilesD_features/test_labels_HOGShape_{i}.pkl', 'rb'))\n",
    "clf = make_pipeline(StandardScaler(), SVC(gamma=df['median'][i-1], kernel='rbf', C=1, probability=True))\n",
    "clf.fit(X_train, y_train)\n",
    "y_prob = clf.predict_proba(X_test)\n",
    "brier = brier_score_loss(y_test, y_prob[:, 1:2], pos_label='smile')\n",
    "mask = np.where(y_test == 'smile', True, False)\n",
    "y_prob = y_prob[mask]\n",
    "if gamma not in bries.keys():\n",
    "    bries[gamma] = []\n",
    "    probs[gamma] = []\n",
    "    outliers[gamma] = []\n",
    "bries[gamma].append(brier)\n",
    "probs[gamma].append(y_prob[:, :1])\n",
    "probanot = pd.DataFrame(y_prob[:, :1], columns=[gamma + '_notsmile']).fillna(value=0)\n",
    "proba = pd.DataFrame(y_prob[:, 1:2], columns=[gamma + '_smile']).fillna(value=0)\n",
    "\n",
    "#pegando outliers de sem sorriso\n",
    "q1 = np.quantile(y_prob[:, :1], 0.25)\n",
    "q3 = np.quantile(y_prob[:, :1], 0.75)\n",
    "med = np.median(y_prob[:, :1])\n",
    "iqr = q3-q1\n",
    "upper_bound = q3+(1.5*iqr)\n",
    "lower_bound = q1-(1.5*iqr)\n",
    "outliers_notsmile = y_prob[:, :1][(y_prob[:, :1] <= lower_bound) | (y_prob[:, :1] >= upper_bound)]\n",
    "\n",
    "#pegando outlier sorriso\n",
    "q1 = np.quantile(y_prob[:, 1:2], 0.25)\n",
    "q3 = np.quantile(y_prob[:, 1:2], 0.75)\n",
    "med = np.median(y_prob[:, 1:2])\n",
    "iqr = q3-q1\n",
    "upper_bound = q3+(1.5*iqr)\n",
    "lower_bound = q1-(1.5*iqr)\n",
    "outliers_smile = y_prob[:, 1:2][(y_prob[:, 1:2] <= lower_bound) | (y_prob[:, 1:2] >= upper_bound)]\n",
    "\n",
    "outliers[gamma] = {'notsmile': outliers_notsmile, 'smile': outliers_smile}\n",
    "\n",
    "proba = proba.append(probanot)\n",
    "final = final.append(probanot)\n",
    "final = final.append(proba)\n",
    "plot = proba.boxplot()"
   ]
  },
  {
   "cell_type": "markdown",
   "id": "cc9e1a14-4390-43e4-9f1c-a62a1104518e",
   "metadata": {},
   "source": [
    "### Treinamento sigest 0.9 quantile"
   ]
  },
  {
   "cell_type": "code",
   "execution_count": 111,
   "id": "95d4a4a7-8711-4b06-b182-3cad41086ce8",
   "metadata": {},
   "outputs": [
    {
     "data": {
      "image/png": "[encoded data removed]",
      "text/plain": [
       "<Figure size 432x288 with 1 Axes>"
      ]
     },
     "metadata": {
      "needs_background": "light"
     },
     "output_type": "display_data"
    }
   ],
   "source": [
    "gamma = 'sigest_0.9quantile'\n",
    "\n",
    "X_train, y_train = load(open(f'SMILEsmilesD_features/train_features_HOGShape_{i}.pkl', 'rb')), \\\n",
    "                    load(open(f'SMILEsmilesD_features/train_labels_HOGShape_{i}.pkl', 'rb'))\n",
    "X_test, y_test = load(open(f'SMILEsmilesD_features/test_features_HOGShape_{i}.pkl', 'rb')), \\\n",
    "                    load(open(f'SMILEsmilesD_features/test_labels_HOGShape_{i}.pkl', 'rb'))\n",
    "clf = make_pipeline(StandardScaler(), SVC(gamma=df['09quantile'][i-1], kernel='rbf', C=1, probability=True))\n",
    "clf.fit(X_train, y_train)\n",
    "y_prob = clf.predict_proba(X_test)\n",
    "brier = brier_score_loss(y_test, y_prob[:, 1:2], pos_label='smile')\n",
    "if gamma not in bries.keys():\n",
    "    bries[gamma] = []\n",
    "    probs[gamma] = []\n",
    "    outliers[gamma] = []\n",
    "bries[gamma].append(brier)\n",
    "probs[gamma].append(y_prob[:, :1])\n",
    "probanot = pd.DataFrame(y_prob[:, :1], columns=[gamma + '_notsmile']).fillna(value=0)\n",
    "proba = pd.DataFrame(y_prob[:, 1:2], columns=[gamma + '_smile']).fillna(value=0)\n",
    "\n",
    "#pegando outliers de sem sorriso\n",
    "q1 = np.quantile(y_prob[:, :1], 0.25)\n",
    "q3 = np.quantile(y_prob[:, :1], 0.75)\n",
    "med = np.median(y_prob[:, :1])\n",
    "iqr = q3-q1\n",
    "upper_bound = q3+(1.5*iqr)\n",
    "lower_bound = q1-(1.5*iqr)\n",
    "outliers_notsmile = y_prob[:, :1][(y_prob[:, :1] <= lower_bound) | (y_prob[:, :1] >= upper_bound)]\n",
    "\n",
    "#pegando outlier sorriso\n",
    "q1 = np.quantile(y_prob[:, 1:2], 0.25)\n",
    "q3 = np.quantile(y_prob[:, 1:2], 0.75)\n",
    "med = np.median(y_prob[:, 1:2])\n",
    "iqr = q3-q1\n",
    "upper_bound = q3+(1.5*iqr)\n",
    "lower_bound = q1-(1.5*iqr)\n",
    "outliers_smile = y_prob[:, 1:2][(y_prob[:, 1:2] <= lower_bound) | (y_prob[:, 1:2] >= upper_bound)]\n",
    "\n",
    "outliers[gamma] = {'notsmile': outliers_notsmile, 'smile': outliers_smile}\n",
    "\n",
    "proba = proba.append(probanot)\n",
    "final = final.append(probanot)\n",
    "final = final.append(proba)\n",
    "plot = proba.boxplot()"
   ]
  },
  {
   "cell_type": "markdown",
   "id": "658e9c75-e4e5-43a8-9377-b130fa167504",
   "metadata": {},
   "source": [
    "### Treinamento sigest media dos quantis"
   ]
  },
  {
   "cell_type": "code",
   "execution_count": 112,
   "id": "916f2cb9-add7-464b-b69e-34acee790800",
   "metadata": {},
   "outputs": [
    {
     "data": {
      "image/png": "[encoded data removed]",
      "text/plain": [
       "<Figure size 432x288 with 1 Axes>"
      ]
     },
     "metadata": {
      "needs_background": "light"
     },
     "output_type": "display_data"
    }
   ],
   "source": [
    "gamma = 'gamma_mean_sigest'\n",
    "\n",
    "X_train, y_train = load(open(f'SMILEsmilesD_features/train_features_HOGShape_{i}.pkl', 'rb')), \\\n",
    "                    load(open(f'SMILEsmilesD_features/train_labels_HOGShape_{i}.pkl', 'rb'))\n",
    "X_test, y_test = load(open(f'SMILEsmilesD_features/test_features_HOGShape_{i}.pkl', 'rb')), \\\n",
    "                    load(open(f'SMILEsmilesD_features/test_labels_HOGShape_{i}.pkl', 'rb'))\n",
    "gamma_mean_sigest = (df['09quantile'][i-1] + df['01quantile'][i-1]) / 2.\n",
    "clf = make_pipeline(StandardScaler(), SVC(gamma=gamma_mean_sigest, kernel='rbf', C=1, probability=True))\n",
    "clf.fit(X_train, y_train)\n",
    "y_prob = clf.predict_proba(X_test)\n",
    "brier = brier_score_loss(y_test, y_prob[:, 1:2], pos_label='smile')\n",
    "if gamma not in bries.keys():\n",
    "    bries[gamma] = []\n",
    "    probs[gamma] = []\n",
    "    outliers[gamma] = []\n",
    "bries[gamma].append(brier)\n",
    "probs[gamma].append(y_prob[:, :1])\n",
    "probanot = pd.DataFrame(y_prob[:, :1], columns=[gamma + '_notsmile']).fillna(value=0)\n",
    "proba = pd.DataFrame(y_prob[:, 1:2], columns=[gamma + '_smile']).fillna(value=0)\n",
    "\n",
    "#pegando outliers de sem sorriso\n",
    "q1 = np.quantile(y_prob[:, :1], 0.25)\n",
    "q3 = np.quantile(y_prob[:, :1], 0.75)\n",
    "med = np.median(y_prob[:, :1])\n",
    "iqr = q3-q1\n",
    "upper_bound = q3+(1.5*iqr)\n",
    "lower_bound = q1-(1.5*iqr)\n",
    "outliers_notsmile = y_prob[:, :1][(y_prob[:, :1] <= lower_bound) | (y_prob[:, :1] >= upper_bound)]\n",
    "\n",
    "#pegando outlier sorriso\n",
    "q1 = np.quantile(y_prob[:, 1:2], 0.25)\n",
    "q3 = np.quantile(y_prob[:, 1:2], 0.75)\n",
    "med = np.median(y_prob[:, 1:2])\n",
    "iqr = q3-q1\n",
    "upper_bound = q3+(1.5*iqr)\n",
    "lower_bound = q1-(1.5*iqr)\n",
    "outliers_smile = y_prob[:, 1:2][(y_prob[:, 1:2] <= lower_bound) | (y_prob[:, 1:2] >= upper_bound)]\n",
    "\n",
    "outliers[gamma] = {'notsmile': outliers_notsmile, 'smile': outliers_smile}\n",
    "\n",
    "proba = proba.append(probanot)\n",
    "final = final.append(probanot)\n",
    "final = final.append(proba)\n",
    "plot = proba.boxplot()"
   ]
  },
  {
   "cell_type": "markdown",
   "id": "da8a9f01-977f-4cf3-8464-58e70945e404",
   "metadata": {},
   "source": [
    "### Treinamento gamma = 1/N"
   ]
  },
  {
   "cell_type": "code",
   "execution_count": 113,
   "id": "eb200b31-ecb8-4baf-a893-87b006e8cad9",
   "metadata": {},
   "outputs": [],
   "source": [
    "if False:\n",
    "    gamma = 'gamma_N'\n",
    "    X_train, y_train = load(open(f'SMILEsmilesD_features/train_features_HOGShape_{i}.pkl', 'rb')), \\\n",
    "                        load(open(f'SMILEsmilesD_features/train_labels_HOGShape_{i}.pkl', 'rb'))\n",
    "    X_test, y_test = load(open(f'SMILEsmilesD_features/test_features_HOGShape_{i}.pkl', 'rb')), \\\n",
    "                        load(open(f'SMILEsmilesD_features/test_labels_HOGShape_{i}.pkl', 'rb'))\n",
    "    gamma_N = 1./(X_train.shape[0])\n",
    "    clf = make_pipeline(StandardScaler(), SVC(gamma=gamma_N, kernel='rbf', C=1, probability=True))\n",
    "    clf.fit(X_train, y_train)\n",
    "    y_prob = clf.predict_proba(X_test)\n",
    "    brier = brier_score_loss(y_test, y_prob[:, 1:2], pos_label='smile')\n",
    "    if gamma not in bries.keys():\n",
    "        bries[gamma] = []\n",
    "        probs[gamma] = []\n",
    "        outliers[gamma] = []\n",
    "    bries[gamma].append(brier)\n",
    "    probs[gamma].append(y_prob[:, :1])\n",
    "    probanot = pd.DataFrame(y_prob[:, :1], columns=[gamma + '_notsmile']).fillna(value=0)\n",
    "    proba = pd.DataFrame(y_prob[:, 1:2], columns=[gamma + '_smile']).fillna(value=0)\n",
    "\n",
    "    #pegando outliers de sem sorriso\n",
    "    q1 = np.quantile(y_prob[:, :1], 0.25)\n",
    "    q3 = np.quantile(y_prob[:, :1], 0.75)\n",
    "    med = np.median(y_prob[:, :1])\n",
    "    iqr = q3-q1\n",
    "    upper_bound = q3+(1.5*iqr)\n",
    "    lower_bound = q1-(1.5*iqr)\n",
    "    outliers_notsmile = y_prob[:, :1][(y_prob[:, :1] <= lower_bound) | (y_prob[:, :1] >= upper_bound)]\n",
    "\n",
    "    #pegando outlier sorriso\n",
    "    q1 = np.quantile(y_prob[:, 1:2], 0.25)\n",
    "    q3 = np.quantile(y_prob[:, 1:2], 0.75)\n",
    "    med = np.median(y_prob[:, 1:2])\n",
    "    iqr = q3-q1\n",
    "    upper_bound = q3+(1.5*iqr)\n",
    "    lower_bound = q1-(1.5*iqr)\n",
    "    outliers_smile = y_prob[:, 1:2][(y_prob[:, 1:2] <= lower_bound) | (y_prob[:, 1:2] >= upper_bound)]\n",
    "\n",
    "    outliers[gamma] = {'notsmile': outliers_notsmile, 'smile': outliers_smile}\n",
    "\n",
    "    proba = proba.append(probanot)\n",
    "    final = final.append(probanot)\n",
    "    final = final.append(proba)\n",
    "    plot = proba.boxplot()"
   ]
  },
  {
   "cell_type": "code",
   "execution_count": 138,
   "id": "fc997d08-3bea-4016-80fc-e9c35c1a1e6f",
   "metadata": {},
   "outputs": [],
   "source": [
    "final = final.rename(columns={'gamma_N_smile': '1 / (Number of samples)',\n",
    "                              'gamma_N_notsmile': '1 / (Number of samples)',\n",
    "                              '1 / (Number of features)': 'auto',\n",
    "                              'gamma_mean_sigest_smile': '(90%-quantile + 10%-quantile) / 2',\n",
    "                              '(90%-quantile + 10%-quantile) / 2': 'quantile mean',\n",
    "                              'gamma_mean_sigest_notsmile': '(90%-quantile + 10%-quantile) / 2',\n",
    "                              'sigest_0.9quantile_smile': '90% quantile',\n",
    "                              'sigest_0.9quantile_notsmile': '90% quantile',\n",
    "                              'sigest_median_smile': 'median',\n",
    "                              'sigest_median_notsmile': 'median',\n",
    "                              'gamma_auto_smile': '1 / (Number of features)',\n",
    "                              'gamma_auto_notsmile': '1 / (Number of features)'})"
   ]
  },
  {
   "cell_type": "code",
   "execution_count": 140,
   "id": "d265cd1c-65b8-421e-857e-d5167b6b5f73",
   "metadata": {},
   "outputs": [
    {
     "data": {
      "image/png": "[encoded data removed]",
      "text/plain": [
       "<Figure size 720x576 with 1 Axes>"
      ]
     },
     "metadata": {
      "needs_background": "light"
     },
     "output_type": "display_data"
    }
   ],
   "source": [
    "medianprops = dict(linewidth=1, color='k')\n",
    "finalplot = final.boxplot(figsize=(10,8), grid=False, rot=0, return_type='dict', patch_artist = True,fontsize=15,\n",
    "                          medianprops=medianprops, vert=False)\n",
    "colors = ['gold', 'royalblue']\n",
    "\n",
    "i = 0\n",
    "for patch in finalplot['boxes']:\n",
    "    patch.set(facecolor = colors[0] if i%2 == 0 else colors[1])\n",
    "    i-=-1\n",
    "plt.xlabel('Probabilities', fontsize=18)\n",
    "plt.ylabel('Methods', fontsize=18)\n",
    "plt.suptitle('')\n",
    "red_patch = mpatches.Patch(color='royalblue', label='Smile')\n",
    "blue_patch = mpatches.Patch(color='gold', label='Not Smile')\n",
    "plt.legend(handles=[red_patch, blue_patch], loc='center left', bbox_to_anchor=(0, -0.1))\n",
    "plt.show()"
   ]
  },
  {
   "cell_type": "code",
   "execution_count": 116,
   "id": "9605e9c8-ab2a-4173-ae5f-983a7fab21d7",
   "metadata": {},
   "outputs": [
    {
     "name": "stdout",
     "output_type": "stream",
     "text": [
      "Mean BRIER score for gamma_auto is 0.06395992664790388 with variation 0.0\n",
      "Mean BRIER score for sigest_median is 0.06538319363271868 with variation 0.0\n",
      "Mean BRIER score for sigest_0.9quantile is 0.06462290148619551 with variation 0.0\n",
      "Mean BRIER score for gamma_mean_sigest is 0.06533497067199695 with variation 0.0\n"
     ]
    }
   ],
   "source": [
    "for k, v in bries.items():\n",
    "    brier_var = np.array(v).var()\n",
    "    brier_mean = np.array(v).mean()\n",
    "    print(f'Mean BRIER score for {k} is {brier_mean} with variation {brier_var}')"
   ]
  },
  {
   "cell_type": "code",
   "execution_count": 117,
   "id": "013a0861-0704-40ad-b70b-46e1cf3db6f2",
   "metadata": {},
   "outputs": [
    {
     "name": "stdout",
     "output_type": "stream",
     "text": [
      "gamma_auto had 58 outliers for smile and 58 for notsmile\n",
      "sigest_median had 58 outliers for smile and 58 for notsmile\n",
      "sigest_0.9quantile had 0 outliers for smile and 0 for notsmile\n",
      "gamma_mean_sigest had 0 outliers for smile and 0 for notsmile\n"
     ]
    }
   ],
   "source": [
    "for k, v in outliers.items():\n",
    "    outsmile = len(v['smile'])\n",
    "    outnotsmile = len(v['notsmile'])\n",
    "    print(f'{k} had {outsmile} outliers for smile and {outnotsmile} for notsmile')"
   ]
  }
 ],
 "metadata": {
  "kernelspec": {
   "display_name": "Python 3 (ipykernel)",
   "language": "python",
   "name": "python3"
  },
  "language_info": {
   "codemirror_mode": {
    "name": "ipython",
    "version": 3
   },
   "file_extension": ".py",
   "mimetype": "text/x-python",
   "name": "python",
   "nbconvert_exporter": "python",
   "pygments_lexer": "ipython3",
   "version": "3.9.5"
  }
 },
 "nbformat": 4,
 "nbformat_minor": 5
}
