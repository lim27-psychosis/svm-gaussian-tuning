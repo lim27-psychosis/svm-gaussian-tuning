{
 "cells": [
  {
   "cell_type": "code",
   "execution_count": 194,
   "id": "997699bd-b885-47d1-8eef-ad5bebde6cdf",
   "metadata": {},
   "outputs": [],
   "source": [
    "from pickle import load\n",
    "import numpy as np\n",
    "from sklearn.svm import SVC\n",
    "import json\n",
    "from sklearn.metrics import matthews_corrcoef\n",
    "from sklearn.utils.class_weight import compute_class_weight\n",
    "from sklearn.metrics import matthews_corrcoef, f1_score, accuracy_score\n",
    "from sklearn.metrics import classification_report\n",
    "from sklearn.preprocessing import StandardScaler\n",
    "from sklearn.pipeline import make_pipeline\n",
    "from tqdm.notebook import tqdm\n",
    "import pandas as pd\n",
    "import matplotlib.pyplot as plt\n",
    "import matplotlib.patches as mpatches"
   ]
  },
  {
   "cell_type": "code",
   "execution_count": 195,
   "id": "0c92e1dc-b0c2-4432-9c80-366b3b0d01d8",
   "metadata": {},
   "outputs": [],
   "source": [
    "mccs = {}\n",
    "reports = {}\n",
    "f1_scores = {}\n",
    "accs = {}\n",
    "y_preds = {}"
   ]
  },
  {
   "cell_type": "markdown",
   "id": "3eea8531-8005-4080-954c-7a3f977e24e7",
   "metadata": {},
   "source": [
    "### Treinamento com GAMMA='AUTO'"
   ]
  },
  {
   "cell_type": "code",
   "execution_count": 196,
   "id": "3506b9fb-df35-4489-9adb-fc3488674584",
   "metadata": {},
   "outputs": [
    {
     "data": {
      "application/vnd.jupyter.widget-view+json": {
       "model_id": "c1d190c7e90a46c3b2c4d0c6ac9a5276",
       "version_major": 2,
       "version_minor": 0
      },
      "text/plain": [
       "  0%|          | 0/100 [00:00<?, ?it/s]"
      ]
     },
     "metadata": {},
     "output_type": "display_data"
    }
   ],
   "source": [
    "for i in tqdm(range(1,101)):\n",
    "    X_train, y_train = load(open(f'SMILEsmilesD_features/train_features_HOGShape_{i}.pkl', 'rb')), \\\n",
    "                        load(open(f'SMILEsmilesD_features/train_labels_HOGShape_{i}.pkl', 'rb'))\n",
    "    X_test, y_test = load(open(f'SMILEsmilesD_features/test_features_HOGShape_{i}.pkl', 'rb')), \\\n",
    "                        load(open(f'SMILEsmilesD_features/test_labels_HOGShape_{i}.pkl', 'rb'))\n",
    "    clf = make_pipeline(StandardScaler(), SVC(gamma='auto', kernel='rbf', C=1))\n",
    "    clf.fit(X_train, y_train)\n",
    "    y_pred = clf.predict(X_test)\n",
    "    mcc = matthews_corrcoef(y_true=y_test, y_pred=y_pred, sample_weight=None)\n",
    "    report = classification_report(y_test, y_pred, target_names=np.unique(y_test), output_dict=True)\n",
    "    f1 = f1_score(y_true=y_test, y_pred=y_pred, pos_label=np.unique(y_test)[1])\n",
    "    acc = accuracy_score(y_test, y_pred)\n",
    "    if 'gamma_auto' not in mccs.keys():\n",
    "        mccs['gamma_auto'] = []\n",
    "        reports['gamma_auto'] = []\n",
    "        f1_scores['gamma_auto'] = []\n",
    "        y_preds['gamma_auto'] = []\n",
    "        accs['gamma_auto'] = []\n",
    "    mccs['gamma_auto'].append(mcc)\n",
    "    reports['gamma_auto'].append(report)\n",
    "    f1_scores['gamma_auto'].append(f1)\n",
    "    y_preds['gamma_auto'].append(y_pred)\n",
    "    accs['gamma_auto'].append(acc)"
   ]
  },
  {
   "cell_type": "code",
   "execution_count": 198,
   "id": "763d5e18-9fbe-4754-ab8c-8fc54156a6d3",
   "metadata": {},
   "outputs": [],
   "source": [
    "df = pd.read_csv('SMILEsmilesD_features/sigmas_frac0.5.csv')"
   ]
  },
  {
   "cell_type": "markdown",
   "id": "4e1092e2-8c37-4364-ba13-79f6e1ed8267",
   "metadata": {},
   "source": [
    "### Treinamento sigest Median"
   ]
  },
  {
   "cell_type": "code",
   "execution_count": 199,
   "id": "ba5a7b7b-55c0-4548-8748-d87af8f2bc2f",
   "metadata": {},
   "outputs": [
    {
     "data": {
      "application/vnd.jupyter.widget-view+json": {
       "model_id": "617325f896d346eaaa75cda1d2b36866",
       "version_major": 2,
       "version_minor": 0
      },
      "text/plain": [
       "  0%|          | 0/100 [00:00<?, ?it/s]"
      ]
     },
     "metadata": {},
     "output_type": "display_data"
    }
   ],
   "source": [
    "for i in tqdm(range(1,101)):\n",
    "    X_train, y_train = load(open(f'SMILEsmilesD_features/train_features_HOGShape_{i}.pkl', 'rb')), \\\n",
    "                        load(open(f'SMILEsmilesD_features/train_labels_HOGShape_{i}.pkl', 'rb'))\n",
    "    X_test, y_test = load(open(f'SMILEsmilesD_features/test_features_HOGShape_{i}.pkl', 'rb')), \\\n",
    "                        load(open(f'SMILEsmilesD_features/test_labels_HOGShape_{i}.pkl', 'rb'))\n",
    "    clf = make_pipeline(StandardScaler(), SVC(gamma=df['median'][i-1], kernel='rbf', C=1))\n",
    "    clf.fit(X_train, y_train)\n",
    "    y_pred = clf.predict(X_test)\n",
    "    mcc = matthews_corrcoef(y_true=y_test, y_pred=y_pred, sample_weight=None)\n",
    "    report = classification_report(y_test, y_pred, target_names=np.unique(y_test), output_dict=True)\n",
    "    f1 = f1_score(y_true=y_test, y_pred=y_pred, pos_label=np.unique(y_test)[1])\n",
    "    acc = accuracy_score(y_test, y_pred)\n",
    "    if 'sigest_median' not in mccs.keys():\n",
    "        mccs['sigest_median'] = []\n",
    "        reports['sigest_median'] = []\n",
    "        f1_scores['sigest_median'] = []\n",
    "        y_preds['sigest_median'] = []\n",
    "        accs['sigest_median'] = []\n",
    "    mccs['sigest_median'].append(mcc)\n",
    "    reports['sigest_median'].append(report)\n",
    "    f1_scores['sigest_median'].append(f1)\n",
    "    y_preds['sigest_median'].append(y_pred)\n",
    "    accs['sigest_median'].append(acc)"
   ]
  },
  {
   "cell_type": "markdown",
   "id": "cc9e1a14-4390-43e4-9f1c-a62a1104518e",
   "metadata": {},
   "source": [
    "### Treinamento sigest 0.9 quantile"
   ]
  },
  {
   "cell_type": "code",
   "execution_count": 200,
   "id": "95d4a4a7-8711-4b06-b182-3cad41086ce8",
   "metadata": {},
   "outputs": [
    {
     "data": {
      "application/vnd.jupyter.widget-view+json": {
       "model_id": "94387d9ac98549e79e240426ef7e1fbc",
       "version_major": 2,
       "version_minor": 0
      },
      "text/plain": [
       "  0%|          | 0/100 [00:00<?, ?it/s]"
      ]
     },
     "metadata": {},
     "output_type": "display_data"
    }
   ],
   "source": [
    "for i in tqdm(range(1,101)):\n",
    "    X_train, y_train = load(open(f'SMILEsmilesD_features/train_features_HOGShape_{i}.pkl', 'rb')), \\\n",
    "                        load(open(f'SMILEsmilesD_features/train_labels_HOGShape_{i}.pkl', 'rb'))\n",
    "    X_test, y_test = load(open(f'SMILEsmilesD_features/test_features_HOGShape_{i}.pkl', 'rb')), \\\n",
    "                        load(open(f'SMILEsmilesD_features/test_labels_HOGShape_{i}.pkl', 'rb'))\n",
    "    clf = make_pipeline(StandardScaler(), SVC(gamma=df['09quantile'][i-1], kernel='rbf', C=1))\n",
    "    clf.fit(X_train, y_train)\n",
    "    y_pred = clf.predict(X_test)\n",
    "    mcc = matthews_corrcoef(y_true=y_test, y_pred=y_pred, sample_weight=None)\n",
    "    report = classification_report(y_test, y_pred, target_names=np.unique(y_test), output_dict=True)\n",
    "    f1 = f1_score(y_true=y_test, y_pred=y_pred, pos_label=np.unique(y_test)[1])\n",
    "    acc = accuracy_score(y_test, y_pred)\n",
    "    if 'sigest_0.9quantile' not in mccs.keys():\n",
    "        mccs['sigest_0.9quantile'] = []\n",
    "        reports['sigest_0.9quantile'] = []\n",
    "        f1_scores['sigest_0.9quantile'] = []\n",
    "        y_preds['sigest_0.9quantile'] = []\n",
    "        accs['sigest_0.9quantile'] = []\n",
    "    mccs['sigest_0.9quantile'].append(mcc)\n",
    "    reports['sigest_0.9quantile'].append(report)\n",
    "    f1_scores['sigest_0.9quantile'].append(f1)\n",
    "    y_preds['sigest_0.9quantile'].append(y_pred)\n",
    "    accs['sigest_0.9quantile'].append(acc)"
   ]
  },
  {
   "cell_type": "markdown",
   "id": "658e9c75-e4e5-43a8-9377-b130fa167504",
   "metadata": {},
   "source": [
    "### Treinamento sigest media dos quantis"
   ]
  },
  {
   "cell_type": "code",
   "execution_count": 201,
   "id": "916f2cb9-add7-464b-b69e-34acee790800",
   "metadata": {},
   "outputs": [
    {
     "data": {
      "application/vnd.jupyter.widget-view+json": {
       "model_id": "a0326dee9d124bacb87a90db43ae2892",
       "version_major": 2,
       "version_minor": 0
      },
      "text/plain": [
       "  0%|          | 0/100 [00:00<?, ?it/s]"
      ]
     },
     "metadata": {},
     "output_type": "display_data"
    }
   ],
   "source": [
    "for i in tqdm(range(1,101)):\n",
    "    X_train, y_train = load(open(f'SMILEsmilesD_features/train_features_HOGShape_{i}.pkl', 'rb')), \\\n",
    "                        load(open(f'SMILEsmilesD_features/train_labels_HOGShape_{i}.pkl', 'rb'))\n",
    "    X_test, y_test = load(open(f'SMILEsmilesD_features/test_features_HOGShape_{i}.pkl', 'rb')), \\\n",
    "                        load(open(f'SMILEsmilesD_features/test_labels_HOGShape_{i}.pkl', 'rb'))\n",
    "    gamma_mean_sigest = (df['09quantile'][i-1] + df['01quantile'][i-1]) / 2.\n",
    "    clf = make_pipeline(StandardScaler(), SVC(gamma=gamma_mean_sigest, kernel='rbf', C=1))\n",
    "    clf.fit(X_train, y_train)\n",
    "    y_pred = clf.predict(X_test)\n",
    "    mcc = matthews_corrcoef(y_true=y_test, y_pred=y_pred, sample_weight=None)\n",
    "    report = classification_report(y_test, y_pred, target_names=np.unique(y_test), output_dict=True)\n",
    "    f1 = f1_score(y_true=y_test, y_pred=y_pred, pos_label=np.unique(y_test)[1])\n",
    "    acc = accuracy_score(y_test, y_pred)\n",
    "    if 'gamma_mean_sigest' not in mccs.keys():\n",
    "        mccs['gamma_mean_sigest'] = []\n",
    "        reports['gamma_mean_sigest'] = []\n",
    "        f1_scores['gamma_mean_sigest'] = []\n",
    "        y_preds['gamma_mean_sigest'] = []\n",
    "        accs['gamma_mean_sigest'] = []\n",
    "    mccs['gamma_mean_sigest'].append(mcc)\n",
    "    reports['gamma_mean_sigest'].append(report)\n",
    "    f1_scores['gamma_mean_sigest'].append(f1)\n",
    "    y_preds['gamma_mean_sigest'].append(y_pred)\n",
    "    accs['gamma_mean_sigest'].append(acc)"
   ]
  },
  {
   "cell_type": "markdown",
   "id": "da8a9f01-977f-4cf3-8464-58e70945e404",
   "metadata": {},
   "source": [
    "### Treinamento gamma = 1/N"
   ]
  },
  {
   "cell_type": "code",
   "execution_count": 202,
   "id": "eb200b31-ecb8-4baf-a893-87b006e8cad9",
   "metadata": {},
   "outputs": [],
   "source": [
    "if False:\n",
    "    for i in tqdm(range(1,101)):\n",
    "        X_train, y_train = load(open(f'SMILEsmilesD_features/train_features_HOGShape_{i}.pkl', 'rb')), \\\n",
    "                            load(open(f'SMILEsmilesD_features/train_labels_HOGShape_{i}.pkl', 'rb'))\n",
    "        X_test, y_test = load(open(f'SMILEsmilesD_features/test_features_HOGShape_{i}.pkl', 'rb')), \\\n",
    "                            load(open(f'SMILEsmilesD_features/test_labels_HOGShape_{i}.pkl', 'rb'))\n",
    "        gamma_N = 1./(X_train.shape[0])\n",
    "        clf = make_pipeline(StandardScaler(), SVC(gamma=gamma_N, kernel='rbf', C=1))\n",
    "        clf.fit(X_train, y_train)\n",
    "        y_pred = clf.predict(X_test)\n",
    "        mcc = matthews_corrcoef(y_true=y_test, y_pred=y_pred, sample_weight=None)\n",
    "        report = classification_report(y_test, y_pred, target_names=np.unique(y_test), output_dict=True)\n",
    "        f1 = f1_score(y_true=y_test, y_pred=y_pred, pos_label=np.unique(y_test)[1])\n",
    "        acc = accuracy_score(y_test, y_pred)\n",
    "        if 'gamma_N' not in mccs.keys():\n",
    "            mccs['gamma_N'] = []\n",
    "            reports['gamma_N'] = []\n",
    "            f1_scores['gamma_N'] = []\n",
    "            y_preds['gamma_N'] = []\n",
    "            accs['gamma_N'] = []\n",
    "        mccs['gamma_N'].append(mcc)\n",
    "        reports['gamma_N'].append(report)\n",
    "        f1_scores['gamma_N'].append(f1)\n",
    "        y_preds['gamma_N'].append(y_pred)\n",
    "        accs['gamma_N'].append(acc)"
   ]
  },
  {
   "cell_type": "code",
   "execution_count": 203,
   "id": "9605e9c8-ab2a-4173-ae5f-983a7fab21d7",
   "metadata": {},
   "outputs": [
    {
     "name": "stdout",
     "output_type": "stream",
     "text": [
      "Mean MCC score for gamma_auto is 0.7823266028871477 with variation 9.706365505790479e-05\n",
      "Mean MCC score for sigest_median is 0.777564672648178 with variation 0.00010045916862803487\n",
      "Mean MCC score for sigest_0.9quantile is 0.7800677888444018 with variation 0.00010549291276391344\n",
      "Mean MCC score for gamma_mean_sigest is 0.7778310434796125 with variation 0.00010231767247845908\n"
     ]
    }
   ],
   "source": [
    "for k, v in mccs.items():\n",
    "    mcc_var = np.array(v).var()\n",
    "    mcc_mean = np.array(v).mean()\n",
    "    print(f'Mean MCC score for {k} is {mcc_mean} with variation {mcc_var}')"
   ]
  },
  {
   "cell_type": "code",
   "execution_count": 220,
   "id": "2180e105-58b5-4808-893b-5379db91bf4a",
   "metadata": {
    "tags": []
   },
   "outputs": [],
   "source": [
    "mccs_pandas = pd.DataFrame()\n",
    "for k, v in mccs.items():\n",
    "    mcc = pd.DataFrame(np.array(v).T, columns=[k])\n",
    "    mccs_pandas = mccs_pandas.append(mcc)"
   ]
  },
  {
   "cell_type": "code",
   "execution_count": 226,
   "id": "1ab3b1bd-8e23-4255-a190-3568e7a52aa1",
   "metadata": {},
   "outputs": [],
   "source": [
    "mccs_pandas.to_csv('mccs_imbalanced.csv')"
   ]
  },
  {
   "cell_type": "code",
   "execution_count": 204,
   "id": "c4237674-4395-4a5c-8109-129d9227b175",
   "metadata": {},
   "outputs": [
    {
     "name": "stdout",
     "output_type": "stream",
     "text": [
      "Mean ACC score for gamma_auto is 0.9137113924050634 with variation 1.555484057042144e-05\n",
      "Mean ACC score for sigest_median is 0.9118075949367089 with variation 1.5500746675212302e-05\n",
      "Mean ACC score for sigest_0.9quantile is 0.9127822784810126 with variation 1.6553110078513083e-05\n",
      "Mean ACC score for gamma_mean_sigest is 0.9119113924050634 with variation 1.5863323185386927e-05\n"
     ]
    }
   ],
   "source": [
    "for k, v in accs.items():\n",
    "    acc_var = np.array(v).var()\n",
    "    acc_mean = np.array(v).mean()\n",
    "    print(f'Mean ACC score for {k} is {acc_mean} with variation {acc_var}')"
   ]
  },
  {
   "cell_type": "code",
   "execution_count": 231,
   "id": "4a92c73a-6d7d-44f3-bddd-8383475e90db",
   "metadata": {},
   "outputs": [
    {
     "data": {
      "text/plain": [
       "(100, 100, 100)"
      ]
     },
     "execution_count": 231,
     "metadata": {},
     "output_type": "execute_result"
    }
   ],
   "source": [
    "len(list(accs.values())[0]), len(list(mccs.values())[0]), len(list(f1_scores.values())[0])"
   ]
  },
  {
   "cell_type": "code",
   "execution_count": 229,
   "id": "220c550e-6f9e-4f5b-881b-b03182cd9141",
   "metadata": {},
   "outputs": [],
   "source": [
    "with open('mccs_imbalanced.json', 'w') as jsonFile:\n",
    "    json.dump(mccs, jsonFile, indent=2)\n",
    "with open('accs_imbalanced.json', 'w') as jsonFile:\n",
    "    json.dump(accs, jsonFile, indent=2)\n",
    "with open('f1scores_imbalanced.json', 'w') as jsonFile:\n",
    "    json.dump(f1_scores, jsonFile, indent=2)"
   ]
  },
  {
   "cell_type": "code",
   "execution_count": 209,
   "id": "fe300aa0-9cdf-4bbf-9116-b825906076c7",
   "metadata": {
    "tags": []
   },
   "outputs": [
    {
     "name": "stdout",
     "output_type": "stream",
     "text": [
      "GAMMA gamma_auto\n",
      "F1-score is 0.8396940096010507 with variation 5.6160720540942386e-05\n",
      "\n",
      "GAMMA sigest_median\n",
      "F1-score is 0.8363594343252582 with variation 5.895729688418308e-05\n",
      "\n",
      "GAMMA sigest_0.9quantile\n",
      "F1-score is 0.8382309514231697 with variation 6.13587717132972e-05\n",
      "\n",
      "GAMMA gamma_mean_sigest\n",
      "F1-score is 0.8365576031343137 with variation 5.95673306413273e-05\n",
      "\n"
     ]
    },
    {
     "data": {
      "image/png": "[encoded data removed]",
      "text/plain": [
       "<Figure size 1080x720 with 1 Axes>"
      ]
     },
     "metadata": {
      "needs_background": "light"
     },
     "output_type": "display_data"
    }
   ],
   "source": [
    "for k, v in f1_scores.items():\n",
    "    f1_score = []\n",
    "    for f1 in v:\n",
    "        f1_score.append(f1)\n",
    "    f1_score = np.array(f1_score)\n",
    "    f1s.append([k, f1_score])\n",
    "    print(f'GAMMA {k}')\n",
    "    print(f'F1-score is {f1_score.mean()} with variation {f1_score.var()}')\n",
    "    print('')\n",
    "f1df = pd.DataFrame(np.array([x[1] for x in f1s]).T, columns=[x[0] for x in f1s])\n",
    "\n",
    "plot = f1df.boxplot(figsize=(15,10), grid=False, rot=45, return_type='dict', patch_artist = True,fontsize=15)\n",
    "colors = ['royalblue', 'yellow']\n",
    "i = 0\n",
    "for patch in plot['boxes']:\n",
    "    patch.set(facecolor = colors[0] if i<5 else colors[1])\n",
    "    i-=-1\n",
    "plt.xlabel('Methods')\n",
    "plt.ylabel('F1Score')\n",
    "plt.suptitle('')\n",
    "blue_patch = mpatches.Patch(color='royalblue', label='F1 Score')\n",
    "plt.legend(handles=[blue_patch])\n",
    "plt.show()"
   ]
  },
  {
   "cell_type": "code",
   "execution_count": 210,
   "id": "26f72d33-7539-4ace-9f8b-0fffefb600d4",
   "metadata": {},
   "outputs": [
    {
     "name": "stdout",
     "output_type": "stream",
     "text": [
      "GAMMA gamma_auto\n",
      "F1-score is 0.8396940096010507 with variation 5.6160720540942386e-05\n",
      "\n",
      "GAMMA sigest_median\n",
      "F1-score is 0.8363594343252582 with variation 5.895729688418308e-05\n",
      "\n",
      "GAMMA sigest_0.9quantile\n",
      "F1-score is 0.8382309514231697 with variation 6.13587717132972e-05\n",
      "\n",
      "GAMMA gamma_mean_sigest\n",
      "F1-score is 0.8365576031343137 with variation 5.95673306413273e-05\n",
      "\n"
     ]
    },
    {
     "data": {
      "image/png": "[encoded data removed]",
      "text/plain": [
       "<Figure size 1080x720 with 1 Axes>"
      ]
     },
     "metadata": {
      "needs_background": "light"
     },
     "output_type": "display_data"
    }
   ],
   "source": [
    "f1s = []\n",
    "for k, v in f1_scores.items():\n",
    "    f1_score = []\n",
    "    for f1 in v:\n",
    "        f1_score.append(f1)\n",
    "    f1_score = np.array(f1_score)\n",
    "    f1s.append([k, f1_score])\n",
    "    print(f'GAMMA {k}')\n",
    "    print(f'F1-score is {f1_score.mean()} with variation {f1_score.var()}')\n",
    "    print('')\n",
    "f1df = pd.DataFrame(np.array([x[1] for x in f1s]).T, columns=[x[0] for x in f1s])\n",
    "\n",
    "f1df = f1df.rename(columns={'gamma_N_smile': '1 / (Number of samples)',\n",
    "                              'gamma_N_notsmile': '1 / (Number of samples)',\n",
    "                              'gamma_mean_sigest': '(90%-quantile - 10%-quantile) / 2',\n",
    "                              'gamma_mean_sigest_notsmile': '(90%-quantile - 10%-quantile) / 2',\n",
    "                              'sigest_0.9quantile': '90%-quantile',\n",
    "                              'sigest_0.9quantile_notsmile': '90%-quantile',\n",
    "                              'sigest_median': 'median',\n",
    "                              'sigest_median_notsmile': 'median',\n",
    "                              'gamma_auto': '1 / (Number of features)',\n",
    "                              'gamma_auto_notsmile': '1 / (Number of features)'})\n",
    "\n",
    "plot = f1df.boxplot(figsize=(15,10), grid=False, rot=0, return_type='dict', patch_artist = True,fontsize=15, vert=False)\n",
    "colors = ['royalblue', 'yellow']\n",
    "i = 0\n",
    "for patch in plot['boxes']:\n",
    "    patch.set(facecolor = colors[0] if i<5 else colors[1])\n",
    "    i-=-1\n",
    "plt.xlabel('Methods', fontsize=18)\n",
    "plt.ylabel('F1-Score', fontsize=18)\n",
    "plt.suptitle('')\n",
    "blue_patch = mpatches.Patch(color='royalblue', label='F1 Score')\n",
    "plt.legend(handles=[blue_patch])\n",
    "plt.show()"
   ]
  }
 ],
 "metadata": {
  "kernelspec": {
   "display_name": "Python 3 (ipykernel)",
   "language": "python",
   "name": "python3"
  },
  "language_info": {
   "codemirror_mode": {
    "name": "ipython",
    "version": 3
   },
   "file_extension": ".py",
   "mimetype": "text/x-python",
   "name": "python",
   "nbconvert_exporter": "python",
   "pygments_lexer": "ipython3",
   "version": "3.9.5"
  }
 },
 "nbformat": 4,
 "nbformat_minor": 5
}
